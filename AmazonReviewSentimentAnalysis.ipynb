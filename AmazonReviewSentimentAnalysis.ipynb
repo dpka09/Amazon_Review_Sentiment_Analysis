{
  "nbformat": 4,
  "nbformat_minor": 0,
  "metadata": {
    "colab": {
      "provenance": []
    },
    "kernelspec": {
      "name": "python3",
      "display_name": "Python 3"
    },
    "language_info": {
      "name": "python"
    }
  },
  "cells": [
    {
      "cell_type": "code",
      "source": [
        "import tensorflow as tf\n",
        "import pandas as pd\n",
        "import numpy as np\n",
        "\n",
        "np.random.seed(123)"
      ],
      "metadata": {
        "id": "QvfuAND1m7tW"
      },
      "execution_count": null,
      "outputs": []
    },
    {
      "cell_type": "code",
      "source": [
        "data= pd.read_csv(\"/content/drive/MyDrive/AML coursework/Amazon_review.csv\")\n",
        "data = data[~data['text'].isna()]\n",
        "data.head()\n"
      ],
      "metadata": {
        "colab": {
          "base_uri": "https://localhost:8080/",
          "height": 205
        },
        "id": "9rPwdk1tq94Q",
        "outputId": "17b23443-1d9b-4cc5-874f-057217ccd793"
      },
      "execution_count": null,
      "outputs": [
        {
          "output_type": "execute_result",
          "data": {
            "text/plain": [
              "               review_id                                               text  \\\n",
              "0  product_review_000000               Works great!. A Decent Condenser Mic   \n",
              "1  product_review_000001  All these other posts about DRM this and DRM t...   \n",
              "2  product_review_000002  Great looking strings on my black classical gu...   \n",
              "3  product_review_000003  I know people rant and rave about this game li...   \n",
              "4  product_review_000004  these things are great! just takes some time t...   \n",
              "\n",
              "  verified  review_score     product_category  \n",
              "0    False           5.0  musical_instruments  \n",
              "1    False           1.0          video_games  \n",
              "2     True           5.0  musical_instruments  \n",
              "3     True           2.0          video_games  \n",
              "4     True           5.0          video_games  "
            ],
            "text/html": [
              "\n",
              "  <div id=\"df-f1107754-7bdf-47d2-8e7a-1ce85b756016\">\n",
              "    <div class=\"colab-df-container\">\n",
              "      <div>\n",
              "<style scoped>\n",
              "    .dataframe tbody tr th:only-of-type {\n",
              "        vertical-align: middle;\n",
              "    }\n",
              "\n",
              "    .dataframe tbody tr th {\n",
              "        vertical-align: top;\n",
              "    }\n",
              "\n",
              "    .dataframe thead th {\n",
              "        text-align: right;\n",
              "    }\n",
              "</style>\n",
              "<table border=\"1\" class=\"dataframe\">\n",
              "  <thead>\n",
              "    <tr style=\"text-align: right;\">\n",
              "      <th></th>\n",
              "      <th>review_id</th>\n",
              "      <th>text</th>\n",
              "      <th>verified</th>\n",
              "      <th>review_score</th>\n",
              "      <th>product_category</th>\n",
              "    </tr>\n",
              "  </thead>\n",
              "  <tbody>\n",
              "    <tr>\n",
              "      <th>0</th>\n",
              "      <td>product_review_000000</td>\n",
              "      <td>Works great!. A Decent Condenser Mic</td>\n",
              "      <td>False</td>\n",
              "      <td>5.0</td>\n",
              "      <td>musical_instruments</td>\n",
              "    </tr>\n",
              "    <tr>\n",
              "      <th>1</th>\n",
              "      <td>product_review_000001</td>\n",
              "      <td>All these other posts about DRM this and DRM t...</td>\n",
              "      <td>False</td>\n",
              "      <td>1.0</td>\n",
              "      <td>video_games</td>\n",
              "    </tr>\n",
              "    <tr>\n",
              "      <th>2</th>\n",
              "      <td>product_review_000002</td>\n",
              "      <td>Great looking strings on my black classical gu...</td>\n",
              "      <td>True</td>\n",
              "      <td>5.0</td>\n",
              "      <td>musical_instruments</td>\n",
              "    </tr>\n",
              "    <tr>\n",
              "      <th>3</th>\n",
              "      <td>product_review_000003</td>\n",
              "      <td>I know people rant and rave about this game li...</td>\n",
              "      <td>True</td>\n",
              "      <td>2.0</td>\n",
              "      <td>video_games</td>\n",
              "    </tr>\n",
              "    <tr>\n",
              "      <th>4</th>\n",
              "      <td>product_review_000004</td>\n",
              "      <td>these things are great! just takes some time t...</td>\n",
              "      <td>True</td>\n",
              "      <td>5.0</td>\n",
              "      <td>video_games</td>\n",
              "    </tr>\n",
              "  </tbody>\n",
              "</table>\n",
              "</div>\n",
              "      <button class=\"colab-df-convert\" onclick=\"convertToInteractive('df-f1107754-7bdf-47d2-8e7a-1ce85b756016')\"\n",
              "              title=\"Convert this dataframe to an interactive table.\"\n",
              "              style=\"display:none;\">\n",
              "        \n",
              "  <svg xmlns=\"http://www.w3.org/2000/svg\" height=\"24px\"viewBox=\"0 0 24 24\"\n",
              "       width=\"24px\">\n",
              "    <path d=\"M0 0h24v24H0V0z\" fill=\"none\"/>\n",
              "    <path d=\"M18.56 5.44l.94 2.06.94-2.06 2.06-.94-2.06-.94-.94-2.06-.94 2.06-2.06.94zm-11 1L8.5 8.5l.94-2.06 2.06-.94-2.06-.94L8.5 2.5l-.94 2.06-2.06.94zm10 10l.94 2.06.94-2.06 2.06-.94-2.06-.94-.94-2.06-.94 2.06-2.06.94z\"/><path d=\"M17.41 7.96l-1.37-1.37c-.4-.4-.92-.59-1.43-.59-.52 0-1.04.2-1.43.59L10.3 9.45l-7.72 7.72c-.78.78-.78 2.05 0 2.83L4 21.41c.39.39.9.59 1.41.59.51 0 1.02-.2 1.41-.59l7.78-7.78 2.81-2.81c.8-.78.8-2.07 0-2.86zM5.41 20L4 18.59l7.72-7.72 1.47 1.35L5.41 20z\"/>\n",
              "  </svg>\n",
              "      </button>\n",
              "      \n",
              "  <style>\n",
              "    .colab-df-container {\n",
              "      display:flex;\n",
              "      flex-wrap:wrap;\n",
              "      gap: 12px;\n",
              "    }\n",
              "\n",
              "    .colab-df-convert {\n",
              "      background-color: #E8F0FE;\n",
              "      border: none;\n",
              "      border-radius: 50%;\n",
              "      cursor: pointer;\n",
              "      display: none;\n",
              "      fill: #1967D2;\n",
              "      height: 32px;\n",
              "      padding: 0 0 0 0;\n",
              "      width: 32px;\n",
              "    }\n",
              "\n",
              "    .colab-df-convert:hover {\n",
              "      background-color: #E2EBFA;\n",
              "      box-shadow: 0px 1px 2px rgba(60, 64, 67, 0.3), 0px 1px 3px 1px rgba(60, 64, 67, 0.15);\n",
              "      fill: #174EA6;\n",
              "    }\n",
              "\n",
              "    [theme=dark] .colab-df-convert {\n",
              "      background-color: #3B4455;\n",
              "      fill: #D2E3FC;\n",
              "    }\n",
              "\n",
              "    [theme=dark] .colab-df-convert:hover {\n",
              "      background-color: #434B5C;\n",
              "      box-shadow: 0px 1px 3px 1px rgba(0, 0, 0, 0.15);\n",
              "      filter: drop-shadow(0px 1px 2px rgba(0, 0, 0, 0.3));\n",
              "      fill: #FFFFFF;\n",
              "    }\n",
              "  </style>\n",
              "\n",
              "      <script>\n",
              "        const buttonEl =\n",
              "          document.querySelector('#df-f1107754-7bdf-47d2-8e7a-1ce85b756016 button.colab-df-convert');\n",
              "        buttonEl.style.display =\n",
              "          google.colab.kernel.accessAllowed ? 'block' : 'none';\n",
              "\n",
              "        async function convertToInteractive(key) {\n",
              "          const element = document.querySelector('#df-f1107754-7bdf-47d2-8e7a-1ce85b756016');\n",
              "          const dataTable =\n",
              "            await google.colab.kernel.invokeFunction('convertToInteractive',\n",
              "                                                     [key], {});\n",
              "          if (!dataTable) return;\n",
              "\n",
              "          const docLinkHtml = 'Like what you see? Visit the ' +\n",
              "            '<a target=\"_blank\" href=https://colab.research.google.com/notebooks/data_table.ipynb>data table notebook</a>'\n",
              "            + ' to learn more about interactive tables.';\n",
              "          element.innerHTML = '';\n",
              "          dataTable['output_type'] = 'display_data';\n",
              "          await google.colab.output.renderOutput(dataTable, element);\n",
              "          const docLink = document.createElement('div');\n",
              "          docLink.innerHTML = docLinkHtml;\n",
              "          element.appendChild(docLink);\n",
              "        }\n",
              "      </script>\n",
              "    </div>\n",
              "  </div>\n",
              "  "
            ]
          },
          "metadata": {},
          "execution_count": 2
        }
      ]
    },
    {
      "cell_type": "code",
      "source": [
        "review_data = data[['text','review_score']]\n",
        "review_data.head()"
      ],
      "metadata": {
        "colab": {
          "base_uri": "https://localhost:8080/",
          "height": 205
        },
        "id": "E7A2HxzkrT-C",
        "outputId": "b395d962-1584-4234-e3b0-d78a88c51996"
      },
      "execution_count": null,
      "outputs": [
        {
          "output_type": "execute_result",
          "data": {
            "text/plain": [
              "                                                text  review_score\n",
              "0               Works great!. A Decent Condenser Mic           5.0\n",
              "1  All these other posts about DRM this and DRM t...           1.0\n",
              "2  Great looking strings on my black classical gu...           5.0\n",
              "3  I know people rant and rave about this game li...           2.0\n",
              "4  these things are great! just takes some time t...           5.0"
            ],
            "text/html": [
              "\n",
              "  <div id=\"df-b0efd960-8ef1-4628-883e-bf85a104a153\">\n",
              "    <div class=\"colab-df-container\">\n",
              "      <div>\n",
              "<style scoped>\n",
              "    .dataframe tbody tr th:only-of-type {\n",
              "        vertical-align: middle;\n",
              "    }\n",
              "\n",
              "    .dataframe tbody tr th {\n",
              "        vertical-align: top;\n",
              "    }\n",
              "\n",
              "    .dataframe thead th {\n",
              "        text-align: right;\n",
              "    }\n",
              "</style>\n",
              "<table border=\"1\" class=\"dataframe\">\n",
              "  <thead>\n",
              "    <tr style=\"text-align: right;\">\n",
              "      <th></th>\n",
              "      <th>text</th>\n",
              "      <th>review_score</th>\n",
              "    </tr>\n",
              "  </thead>\n",
              "  <tbody>\n",
              "    <tr>\n",
              "      <th>0</th>\n",
              "      <td>Works great!. A Decent Condenser Mic</td>\n",
              "      <td>5.0</td>\n",
              "    </tr>\n",
              "    <tr>\n",
              "      <th>1</th>\n",
              "      <td>All these other posts about DRM this and DRM t...</td>\n",
              "      <td>1.0</td>\n",
              "    </tr>\n",
              "    <tr>\n",
              "      <th>2</th>\n",
              "      <td>Great looking strings on my black classical gu...</td>\n",
              "      <td>5.0</td>\n",
              "    </tr>\n",
              "    <tr>\n",
              "      <th>3</th>\n",
              "      <td>I know people rant and rave about this game li...</td>\n",
              "      <td>2.0</td>\n",
              "    </tr>\n",
              "    <tr>\n",
              "      <th>4</th>\n",
              "      <td>these things are great! just takes some time t...</td>\n",
              "      <td>5.0</td>\n",
              "    </tr>\n",
              "  </tbody>\n",
              "</table>\n",
              "</div>\n",
              "      <button class=\"colab-df-convert\" onclick=\"convertToInteractive('df-b0efd960-8ef1-4628-883e-bf85a104a153')\"\n",
              "              title=\"Convert this dataframe to an interactive table.\"\n",
              "              style=\"display:none;\">\n",
              "        \n",
              "  <svg xmlns=\"http://www.w3.org/2000/svg\" height=\"24px\"viewBox=\"0 0 24 24\"\n",
              "       width=\"24px\">\n",
              "    <path d=\"M0 0h24v24H0V0z\" fill=\"none\"/>\n",
              "    <path d=\"M18.56 5.44l.94 2.06.94-2.06 2.06-.94-2.06-.94-.94-2.06-.94 2.06-2.06.94zm-11 1L8.5 8.5l.94-2.06 2.06-.94-2.06-.94L8.5 2.5l-.94 2.06-2.06.94zm10 10l.94 2.06.94-2.06 2.06-.94-2.06-.94-.94-2.06-.94 2.06-2.06.94z\"/><path d=\"M17.41 7.96l-1.37-1.37c-.4-.4-.92-.59-1.43-.59-.52 0-1.04.2-1.43.59L10.3 9.45l-7.72 7.72c-.78.78-.78 2.05 0 2.83L4 21.41c.39.39.9.59 1.41.59.51 0 1.02-.2 1.41-.59l7.78-7.78 2.81-2.81c.8-.78.8-2.07 0-2.86zM5.41 20L4 18.59l7.72-7.72 1.47 1.35L5.41 20z\"/>\n",
              "  </svg>\n",
              "      </button>\n",
              "      \n",
              "  <style>\n",
              "    .colab-df-container {\n",
              "      display:flex;\n",
              "      flex-wrap:wrap;\n",
              "      gap: 12px;\n",
              "    }\n",
              "\n",
              "    .colab-df-convert {\n",
              "      background-color: #E8F0FE;\n",
              "      border: none;\n",
              "      border-radius: 50%;\n",
              "      cursor: pointer;\n",
              "      display: none;\n",
              "      fill: #1967D2;\n",
              "      height: 32px;\n",
              "      padding: 0 0 0 0;\n",
              "      width: 32px;\n",
              "    }\n",
              "\n",
              "    .colab-df-convert:hover {\n",
              "      background-color: #E2EBFA;\n",
              "      box-shadow: 0px 1px 2px rgba(60, 64, 67, 0.3), 0px 1px 3px 1px rgba(60, 64, 67, 0.15);\n",
              "      fill: #174EA6;\n",
              "    }\n",
              "\n",
              "    [theme=dark] .colab-df-convert {\n",
              "      background-color: #3B4455;\n",
              "      fill: #D2E3FC;\n",
              "    }\n",
              "\n",
              "    [theme=dark] .colab-df-convert:hover {\n",
              "      background-color: #434B5C;\n",
              "      box-shadow: 0px 1px 3px 1px rgba(0, 0, 0, 0.15);\n",
              "      filter: drop-shadow(0px 1px 2px rgba(0, 0, 0, 0.3));\n",
              "      fill: #FFFFFF;\n",
              "    }\n",
              "  </style>\n",
              "\n",
              "      <script>\n",
              "        const buttonEl =\n",
              "          document.querySelector('#df-b0efd960-8ef1-4628-883e-bf85a104a153 button.colab-df-convert');\n",
              "        buttonEl.style.display =\n",
              "          google.colab.kernel.accessAllowed ? 'block' : 'none';\n",
              "\n",
              "        async function convertToInteractive(key) {\n",
              "          const element = document.querySelector('#df-b0efd960-8ef1-4628-883e-bf85a104a153');\n",
              "          const dataTable =\n",
              "            await google.colab.kernel.invokeFunction('convertToInteractive',\n",
              "                                                     [key], {});\n",
              "          if (!dataTable) return;\n",
              "\n",
              "          const docLinkHtml = 'Like what you see? Visit the ' +\n",
              "            '<a target=\"_blank\" href=https://colab.research.google.com/notebooks/data_table.ipynb>data table notebook</a>'\n",
              "            + ' to learn more about interactive tables.';\n",
              "          element.innerHTML = '';\n",
              "          dataTable['output_type'] = 'display_data';\n",
              "          await google.colab.output.renderOutput(dataTable, element);\n",
              "          const docLink = document.createElement('div');\n",
              "          docLink.innerHTML = docLinkHtml;\n",
              "          element.appendChild(docLink);\n",
              "        }\n",
              "      </script>\n",
              "    </div>\n",
              "  </div>\n",
              "  "
            ]
          },
          "metadata": {},
          "execution_count": 3
        }
      ]
    },
    {
      "cell_type": "code",
      "source": [
        "review_train_data = review_data[review_data['review_score']!=-1.]\n",
        "r_texts_train = review_train_data['text'].values\n",
        "r_labels_train = review_train_data['review_score'].values"
      ],
      "metadata": {
        "id": "ckfhbyI9rXJB"
      },
      "execution_count": null,
      "outputs": []
    },
    {
      "cell_type": "code",
      "source": [
        "product_data = data[['text','product_category']]\n",
        "print(product_data.head())"
      ],
      "metadata": {
        "colab": {
          "base_uri": "https://localhost:8080/"
        },
        "id": "Ijnj1CiYrc2M",
        "outputId": "223cfe0b-5c04-4973-bc57-bb15e2097a72"
      },
      "execution_count": null,
      "outputs": [
        {
          "output_type": "stream",
          "name": "stdout",
          "text": [
            "                                                text     product_category\n",
            "0               Works great!. A Decent Condenser Mic  musical_instruments\n",
            "1  All these other posts about DRM this and DRM t...          video_games\n",
            "2  Great looking strings on my black classical gu...  musical_instruments\n",
            "3  I know people rant and rave about this game li...          video_games\n",
            "4  these things are great! just takes some time t...          video_games\n"
          ]
        }
      ]
    },
    {
      "cell_type": "code",
      "source": [
        "product_train_data = product_data[~product_data['product_category'].isna()]\n",
        "p_texts_train = product_train_data['text'].values\n",
        "p_labels_train = product_train_data['product_category'].values"
      ],
      "metadata": {
        "id": "vyh57bkSrgno"
      },
      "execution_count": null,
      "outputs": []
    },
    {
      "cell_type": "code",
      "source": [
        "product_train_data.isna().sum()"
      ],
      "metadata": {
        "colab": {
          "base_uri": "https://localhost:8080/"
        },
        "id": "NtYRoapxsNfA",
        "outputId": "7dbc4d8a-388a-4551-83bc-3fba3a64cdad"
      },
      "execution_count": null,
      "outputs": [
        {
          "output_type": "execute_result",
          "data": {
            "text/plain": [
              "text                0\n",
              "product_category    0\n",
              "dtype: int64"
            ]
          },
          "metadata": {},
          "execution_count": 7
        }
      ]
    },
    {
      "cell_type": "code",
      "source": [
        "import nltk\n",
        "nltk.download('punkt')\n",
        "nltk.download('wordnet')\n",
        "nltk.download('averaged_perceptron_tagger')\n",
        "nltk.download('stopwords')"
      ],
      "metadata": {
        "colab": {
          "base_uri": "https://localhost:8080/"
        },
        "id": "BDEMctzcruXI",
        "outputId": "684a2f48-68ae-42ab-fadb-89dfbb5cf9f8"
      },
      "execution_count": null,
      "outputs": [
        {
          "output_type": "stream",
          "name": "stdout",
          "text": [
            "[nltk_data] Downloading package punkt to /root/nltk_data...\n",
            "[nltk_data]   Unzipping tokenizers/punkt.zip.\n",
            "[nltk_data] Downloading package wordnet to /root/nltk_data...\n",
            "[nltk_data]   Unzipping corpora/wordnet.zip.\n",
            "[nltk_data] Downloading package averaged_perceptron_tagger to\n",
            "[nltk_data]     /root/nltk_data...\n",
            "[nltk_data]   Unzipping taggers/averaged_perceptron_tagger.zip.\n",
            "[nltk_data] Downloading package stopwords to /root/nltk_data...\n",
            "[nltk_data]   Unzipping corpora/stopwords.zip.\n"
          ]
        },
        {
          "output_type": "execute_result",
          "data": {
            "text/plain": [
              "True"
            ]
          },
          "metadata": {},
          "execution_count": 8
        }
      ]
    },
    {
      "cell_type": "code",
      "source": [
        "from nltk.tokenize import word_tokenize\n",
        "from nltk import pos_tag\n",
        "from nltk.corpus import stopwords\n",
        "from nltk.stem import WordNetLemmatizer\n",
        "from sklearn.preprocessing import LabelEncoder\n",
        "from collections import defaultdict\n",
        "from nltk.corpus import wordnet as wn\n",
        "from sklearn.feature_extraction.text import TfidfVectorizer\n",
        "from sklearn import model_selection, naive_bayes, svm\n",
        "from sklearn.metrics import accuracy_score"
      ],
      "metadata": {
        "id": "yqODz68Crv__"
      },
      "execution_count": null,
      "outputs": []
    },
    {
      "cell_type": "code",
      "source": [
        "from tqdm import tqdm\n",
        "def preprocess_text(text_data):\n",
        "\n",
        "  data = [x.lower() for x in text_data]\n",
        "  data = [word_tokenize(entry) for entry in data]\n",
        "\n",
        "  tag_map = defaultdict(lambda : wn.NOUN)\n",
        "  tag_map['J'] = wn.ADJ\n",
        "  tag_map['V'] = wn.VERB\n",
        "  tag_map['R'] = wn.ADV\n",
        "  for index,entry in tqdm(enumerate(data),desc = \"Processing text\"):\n",
        "    final_words = []\n",
        "    word_lemmatized = WordNetLemmatizer()\n",
        "    for word, tag in pos_tag(entry):\n",
        "      if word not in stopwords.words('english') and word.isalpha():\n",
        "        word_final = word_lemmatized.lemmatize(word,tag_map[tag[0]])\n",
        "        final_words.append(word_final)\n",
        "    data[index] = final_words\n",
        "  data = [\" \".join(sentence) for sentence in data]\n",
        "  return data\n"
      ],
      "metadata": {
        "id": "FCByQISQrxLn"
      },
      "execution_count": null,
      "outputs": []
    },
    {
      "cell_type": "code",
      "source": [
        "product_X_train = preprocess_text(p_texts_train)\n",
        "review_X_train = preprocess_text(r_texts_train)"
      ],
      "metadata": {
        "colab": {
          "base_uri": "https://localhost:8080/"
        },
        "id": "rWRZ6tdTr0Vg",
        "outputId": "b16e1f2a-09e5-497d-82f8-c72cdc5b5532"
      },
      "execution_count": null,
      "outputs": [
        {
          "output_type": "stream",
          "name": "stderr",
          "text": [
            "Processing text: 31998it [16:56, 31.49it/s]\n",
            "Processing text: 31997it [15:12, 35.07it/s]\n"
          ]
        }
      ]
    },
    {
      "cell_type": "code",
      "source": [
        "import pickle\n",
        "pickle.dump(product_X_train,open(\"review_X_train_processed\",'wb'))\n",
        "pickle.dump(review_X_train,open(\"product_X_train_processed\",'wb'))"
      ],
      "metadata": {
        "id": "kbDGTQTFBOzc"
      },
      "execution_count": null,
      "outputs": []
    },
    {
      "cell_type": "code",
      "source": [
        "#vectorize words\n",
        "from tensorflow.keras.preprocessing.text import Tokenizer\n",
        "from  tensorflow.keras.preprocessing import sequence\n",
        "\n",
        "voc_size = 5000\n",
        "max_len = 128\n",
        "tok = Tokenizer(num_words=voc_size)\n",
        "tok.fit_on_texts(review_X_train)\n",
        "sequences = tok.texts_to_sequences(product_X_train)\n",
        "seq_lens = pd.DataFrame([len(s) for s in sequences])\n",
        "seq_lens.plot(kind='box').set(title=\"Visualizing distribution of length of sentences\")\n",
        "prod_sequences_matrix = sequence.pad_sequences(sequences,maxlen=max_len)\n",
        "sequences = tok.texts_to_sequences(review_X_train)\n",
        "rev_sequences_matrix = sequence.pad_sequences(sequences,maxlen=max_len)"
      ],
      "metadata": {
        "colab": {
          "base_uri": "https://localhost:8080/",
          "height": 264
        },
        "id": "9DIwBk_fzmNj",
        "outputId": "8376aa14-9f4f-46ee-ae9d-ce84aafaa7b2"
      },
      "execution_count": null,
      "outputs": [
        {
          "output_type": "display_data",
          "data": {
            "text/plain": [
              "<Figure size 432x288 with 1 Axes>"
            ],
            "image/png": "[encoded data removed]"
          },
          "metadata": {
            "needs_background": "light"
          }
        }
      ]
    },
    {
      "cell_type": "code",
      "source": [
        "prod_sequences_matrix.shape"
      ],
      "metadata": {
        "colab": {
          "base_uri": "https://localhost:8080/"
        },
        "id": "hLvMXNt33ez6",
        "outputId": "966811d2-8bbe-495f-cbac-9addb0c737c2"
      },
      "execution_count": null,
      "outputs": [
        {
          "output_type": "execute_result",
          "data": {
            "text/plain": [
              "(31998, 128)"
            ]
          },
          "metadata": {},
          "execution_count": 13
        }
      ]
    },
    {
      "cell_type": "code",
      "source": [
        "#onehotencode labels\n",
        "from sklearn.preprocessing import LabelEncoder\n",
        "from tensorflow.keras.utils import to_categorical\n",
        "\n",
        "p_le = LabelEncoder()\n",
        "p_encoded_labels = p_le.fit_transform(p_labels_train)\n",
        "p_labels_vec = to_categorical(p_encoded_labels)\n",
        "r_le = LabelEncoder()\n",
        "r_encoded_labels = r_le.fit_transform(r_labels_train)\n",
        "r_labels_vec = to_categorical(r_encoded_labels)"
      ],
      "metadata": {
        "id": "Hg1P4qMl0dUF"
      },
      "execution_count": null,
      "outputs": []
    },
    {
      "cell_type": "code",
      "source": [
        "p_labels_vec.shape"
      ],
      "metadata": {
        "colab": {
          "base_uri": "https://localhost:8080/"
        },
        "id": "l_FMcWUOqbxZ",
        "outputId": "763859f3-b962-42c5-9e67-92b253e15dac"
      },
      "execution_count": null,
      "outputs": [
        {
          "output_type": "execute_result",
          "data": {
            "text/plain": [
              "(31998, 2)"
            ]
          },
          "metadata": {},
          "execution_count": 15
        }
      ]
    },
    {
      "cell_type": "code",
      "execution_count": null,
      "metadata": {
        "id": "2-UwG3Gkmytj"
      },
      "outputs": [],
      "source": [
        "\n",
        "def model(input_shape,n_classes,loss='binary_crossentropy'):\n",
        "\n",
        "\n",
        "  model=tf.keras.Sequential()\n",
        "\n",
        "  model.add(tf.keras.layers.Embedding(voc_size,45,input_length=128))\n",
        "\n",
        "  model.add(tf.compat.v1.keras.layers.CuDNNLSTM(128,input_shape=(input_shape),return_sequences=True))\n",
        "\n",
        "  model.add(tf.keras.layers.Dropout(0.2))\n",
        "\n",
        "  model.add(tf.compat.v1.keras.layers.CuDNNLSTM(128))\n",
        "\n",
        "  model.add(tf.keras.layers.Dropout(0.2))\n",
        "\n",
        "  # for units in [128,128,64,32]:\n",
        "\n",
        "  # model.add(Dense(units,activation='relu'))\n",
        "\n",
        "  # model.add(Dropout(0.2))\n",
        "\n",
        "  model.add(tf.keras.layers.Dense(32,activation='sigmoid'))\n",
        "\n",
        "  model.add(tf.keras.layers.Dropout(0.2))\n",
        "\n",
        "  model.add(tf.keras.layers.Dense(n_classes,activation='softmax'))\n",
        "\n",
        "  model.compile(loss=loss,optimizer='adam',metrics=['accuracy'])\n",
        "\n",
        "  return model"
      ]
    },
    {
      "cell_type": "code",
      "source": [
        "prod_model = model(prod_sequences_matrix.shape,p_labels_vec.shape[1])\n",
        "prod_model.summary()"
      ],
      "metadata": {
        "colab": {
          "base_uri": "https://localhost:8080/"
        },
        "id": "GT4MXILB1l84",
        "outputId": "e9a26759-339c-4ec4-d22f-e7057b8f5f90"
      },
      "execution_count": null,
      "outputs": [
        {
          "output_type": "stream",
          "name": "stdout",
          "text": [
            "Model: \"sequential_7\"\n",
            "_________________________________________________________________\n",
            " Layer (type)                Output Shape              Param #   \n",
            "=================================================================\n",
            " embedding_7 (Embedding)     (None, 128, 45)           225000    \n",
            "                                                                 \n",
            " cu_dnnlstm_7 (CuDNNLSTM)    (None, 128, 128)          89600     \n",
            "                                                                 \n",
            " dropout_9 (Dropout)         (None, 128, 128)          0         \n",
            "                                                                 \n",
            " cu_dnnlstm_8 (CuDNNLSTM)    (None, 128)               132096    \n",
            "                                                                 \n",
            " dropout_10 (Dropout)        (None, 128)               0         \n",
            "                                                                 \n",
            " dense_6 (Dense)             (None, 32)                4128      \n",
            "                                                                 \n",
            " dropout_11 (Dropout)        (None, 32)                0         \n",
            "                                                                 \n",
            " dense_7 (Dense)             (None, 2)                 66        \n",
            "                                                                 \n",
            "=================================================================\n",
            "Total params: 450,890\n",
            "Trainable params: 450,890\n",
            "Non-trainable params: 0\n",
            "_________________________________________________________________\n"
          ]
        }
      ]
    },
    {
      "cell_type": "code",
      "source": [
        "p_labels_vec.shape"
      ],
      "metadata": {
        "colab": {
          "base_uri": "https://localhost:8080/"
        },
        "id": "5qlavUYH2IDB",
        "outputId": "6a559aa4-b39e-47ae-8f2c-3ce9148c8290"
      },
      "execution_count": null,
      "outputs": [
        {
          "output_type": "error",
          "ename": "NameError",
          "evalue": "ignored",
          "traceback": [
            "\u001b[0;31m---------------------------------------------------------------------------\u001b[0m",
            "\u001b[0;31mNameError\u001b[0m                                 Traceback (most recent call last)",
            "\u001b[0;32m<ipython-input-1-7294f4b51138>\u001b[0m in \u001b[0;36m<module>\u001b[0;34m()\u001b[0m\n\u001b[0;32m----> 1\u001b[0;31m \u001b[0mp_labels_vec\u001b[0m\u001b[0;34m.\u001b[0m\u001b[0mshape\u001b[0m\u001b[0;34m\u001b[0m\u001b[0;34m\u001b[0m\u001b[0m\n\u001b[0m",
            "\u001b[0;31mNameError\u001b[0m: name 'p_labels_vec' is not defined"
          ]
        }
      ]
    },
    {
      "cell_type": "code",
      "source": [
        "r_labels_vec.shape"
      ],
      "metadata": {
        "colab": {
          "base_uri": "https://localhost:8080/"
        },
        "id": "enuysPd_8Keu",
        "outputId": "80b13264-1c9f-4877-db31-86daf10e9314"
      },
      "execution_count": null,
      "outputs": [
        {
          "output_type": "execute_result",
          "data": {
            "text/plain": [
              "(31997, 5)"
            ]
          },
          "metadata": {},
          "execution_count": 29
        }
      ]
    },
    {
      "cell_type": "code",
      "source": [
        "rev_model = model(rev_sequences_matrix.shape,r_labels_vec.shape[1],loss='categorical_crossentropy')\n",
        "rev_model.summary()"
      ],
      "metadata": {
        "colab": {
          "base_uri": "https://localhost:8080/"
        },
        "id": "hcUDnzO58Cz2",
        "outputId": "2a189a7e-3fa2-4d66-9ba2-cf33d439ff7e"
      },
      "execution_count": null,
      "outputs": [
        {
          "output_type": "stream",
          "name": "stdout",
          "text": [
            "Model: \"sequential_9\"\n",
            "_________________________________________________________________\n",
            " Layer (type)                Output Shape              Param #   \n",
            "=================================================================\n",
            " embedding_9 (Embedding)     (None, 128, 45)           225000    \n",
            "                                                                 \n",
            " cu_dnnlstm_11 (CuDNNLSTM)   (None, 128, 128)          89600     \n",
            "                                                                 \n",
            " dropout_15 (Dropout)        (None, 128, 128)          0         \n",
            "                                                                 \n",
            " cu_dnnlstm_12 (CuDNNLSTM)   (None, 128)               132096    \n",
            "                                                                 \n",
            " dropout_16 (Dropout)        (None, 128)               0         \n",
            "                                                                 \n",
            " dense_10 (Dense)            (None, 32)                4128      \n",
            "                                                                 \n",
            " dropout_17 (Dropout)        (None, 32)                0         \n",
            "                                                                 \n",
            " dense_11 (Dense)            (None, 5)                 165       \n",
            "                                                                 \n",
            "=================================================================\n",
            "Total params: 450,989\n",
            "Trainable params: 450,989\n",
            "Non-trainable params: 0\n",
            "_________________________________________________________________\n"
          ]
        }
      ]
    },
    {
      "cell_type": "code",
      "source": [
        "from sklearn.model_selection import train_test_split\n",
        "p_X_train, p_X_test, p_y_train, p_y_test = train_test_split(prod_sequences_matrix, p_labels_vec, test_size=0.1, random_state=42,stratify=p_labels_vec)\n",
        "r_X_train, r_X_test, r_y_train, r_y_test = train_test_split(rev_sequences_matrix, r_labels_vec, test_size=0.1, random_state=42,stratify=r_labels_vec)"
      ],
      "metadata": {
        "id": "Hxn8ihVn1t-r"
      },
      "execution_count": null,
      "outputs": []
    },
    {
      "cell_type": "code",
      "source": [
        "prod_model.fit(p_X_train,p_y_train,validation_data=(p_X_test,p_y_test),epochs=10,batch_size=128)"
      ],
      "metadata": {
        "colab": {
          "base_uri": "https://localhost:8080/"
        },
        "id": "4PnyCzcu190I",
        "outputId": "786c74bd-7498-4d01-81c0-53a9a0e67fbf"
      },
      "execution_count": null,
      "outputs": [
        {
          "output_type": "stream",
          "name": "stdout",
          "text": [
            "Epoch 1/10\n",
            "225/225 [==============================] - 45s 69ms/step - loss: 0.5554 - accuracy: 0.7232 - val_loss: 0.2684 - val_accuracy: 0.8900\n",
            "Epoch 2/10\n",
            "225/225 [==============================] - 15s 65ms/step - loss: 0.2244 - accuracy: 0.9137 - val_loss: 0.1746 - val_accuracy: 0.9272\n",
            "Epoch 3/10\n",
            "225/225 [==============================] - 15s 65ms/step - loss: 0.1509 - accuracy: 0.9399 - val_loss: 0.1478 - val_accuracy: 0.9378\n",
            "Epoch 4/10\n",
            "225/225 [==============================] - 15s 64ms/step - loss: 0.1275 - accuracy: 0.9472 - val_loss: 0.1409 - val_accuracy: 0.9428\n",
            "Epoch 5/10\n",
            "225/225 [==============================] - 14s 64ms/step - loss: 0.1289 - accuracy: 0.9494 - val_loss: 0.1533 - val_accuracy: 0.9381\n",
            "Epoch 6/10\n",
            "225/225 [==============================] - 15s 65ms/step - loss: 0.1052 - accuracy: 0.9554 - val_loss: 0.1493 - val_accuracy: 0.9397\n",
            "Epoch 7/10\n",
            "225/225 [==============================] - 15s 65ms/step - loss: 0.0988 - accuracy: 0.9575 - val_loss: 0.1567 - val_accuracy: 0.9378\n",
            "Epoch 8/10\n",
            "225/225 [==============================] - 15s 65ms/step - loss: 0.0936 - accuracy: 0.9594 - val_loss: 0.1552 - val_accuracy: 0.9431\n",
            "Epoch 9/10\n",
            "225/225 [==============================] - 15s 65ms/step - loss: 0.0913 - accuracy: 0.9604 - val_loss: 0.1637 - val_accuracy: 0.9356\n",
            "Epoch 10/10\n",
            "225/225 [==============================] - 14s 64ms/step - loss: 0.0869 - accuracy: 0.9618 - val_loss: 0.1806 - val_accuracy: 0.9334\n"
          ]
        },
        {
          "output_type": "execute_result",
          "data": {
            "text/plain": [
              "<keras.callbacks.History at 0x7fda06cd5450>"
            ]
          },
          "metadata": {},
          "execution_count": 38
        }
      ]
    },
    {
      "cell_type": "code",
      "source": [
        "rev_model.fit(r_X_train,r_y_train,validation_data=(r_X_test,r_y_test),epochs=20,batch_size=128)"
      ],
      "metadata": {
        "colab": {
          "base_uri": "https://localhost:8080/"
        },
        "id": "YRjpV7uv2YRg",
        "outputId": "5584e19e-6df7-4854-cc56-9605032da0b2"
      },
      "execution_count": null,
      "outputs": [
        {
          "output_type": "stream",
          "name": "stdout",
          "text": [
            "Epoch 1/20\n",
            "225/225 [==============================] - 18s 68ms/step - loss: 1.0722 - accuracy: 0.6050 - val_loss: 0.9467 - val_accuracy: 0.6294\n",
            "Epoch 2/20\n",
            "225/225 [==============================] - 15s 65ms/step - loss: 0.9096 - accuracy: 0.6437 - val_loss: 0.9209 - val_accuracy: 0.6400\n",
            "Epoch 3/20\n",
            "225/225 [==============================] - 14s 64ms/step - loss: 0.8667 - accuracy: 0.6555 - val_loss: 0.9057 - val_accuracy: 0.6450\n",
            "Epoch 4/20\n",
            "225/225 [==============================] - 14s 64ms/step - loss: 0.8292 - accuracy: 0.6733 - val_loss: 0.8878 - val_accuracy: 0.6619\n",
            "Epoch 5/20\n",
            "225/225 [==============================] - 15s 66ms/step - loss: 0.7743 - accuracy: 0.6972 - val_loss: 0.8917 - val_accuracy: 0.6609\n",
            "Epoch 6/20\n",
            "225/225 [==============================] - 14s 64ms/step - loss: 0.7347 - accuracy: 0.7171 - val_loss: 0.8975 - val_accuracy: 0.6684\n",
            "Epoch 7/20\n",
            "225/225 [==============================] - 15s 66ms/step - loss: 0.6934 - accuracy: 0.7357 - val_loss: 0.9340 - val_accuracy: 0.6541\n",
            "Epoch 8/20\n",
            "225/225 [==============================] - 15s 65ms/step - loss: 0.6635 - accuracy: 0.7488 - val_loss: 0.9170 - val_accuracy: 0.6659\n",
            "Epoch 9/20\n",
            "225/225 [==============================] - 15s 66ms/step - loss: 0.6351 - accuracy: 0.7644 - val_loss: 0.9713 - val_accuracy: 0.6625\n",
            "Epoch 10/20\n",
            "225/225 [==============================] - 15s 65ms/step - loss: 0.6084 - accuracy: 0.7765 - val_loss: 0.9800 - val_accuracy: 0.6587\n",
            "Epoch 11/20\n",
            "225/225 [==============================] - 15s 65ms/step - loss: 0.5844 - accuracy: 0.7886 - val_loss: 1.0230 - val_accuracy: 0.6650\n",
            "Epoch 12/20\n",
            "225/225 [==============================] - 15s 65ms/step - loss: 0.5674 - accuracy: 0.7976 - val_loss: 1.0295 - val_accuracy: 0.6456\n",
            "Epoch 13/20\n",
            "225/225 [==============================] - 15s 65ms/step - loss: 0.5621 - accuracy: 0.8027 - val_loss: 1.0441 - val_accuracy: 0.6566\n",
            "Epoch 14/20\n",
            "225/225 [==============================] - 15s 65ms/step - loss: 0.5369 - accuracy: 0.8141 - val_loss: 1.0760 - val_accuracy: 0.6519\n",
            "Epoch 15/20\n",
            "225/225 [==============================] - 14s 64ms/step - loss: 0.5172 - accuracy: 0.8214 - val_loss: 1.0841 - val_accuracy: 0.6509\n",
            "Epoch 16/20\n",
            "225/225 [==============================] - 15s 65ms/step - loss: 0.5057 - accuracy: 0.8285 - val_loss: 1.1234 - val_accuracy: 0.6388\n",
            "Epoch 17/20\n",
            "225/225 [==============================] - 14s 64ms/step - loss: 0.4832 - accuracy: 0.8406 - val_loss: 1.1380 - val_accuracy: 0.6366\n",
            "Epoch 18/20\n",
            "225/225 [==============================] - 15s 65ms/step - loss: 0.4660 - accuracy: 0.8478 - val_loss: 1.1594 - val_accuracy: 0.6447\n",
            "Epoch 19/20\n",
            "225/225 [==============================] - 15s 64ms/step - loss: 0.4490 - accuracy: 0.8537 - val_loss: 1.1925 - val_accuracy: 0.6488\n",
            "Epoch 20/20\n",
            "225/225 [==============================] - 15s 65ms/step - loss: 0.4333 - accuracy: 0.8598 - val_loss: 1.1923 - val_accuracy: 0.6541\n"
          ]
        },
        {
          "output_type": "execute_result",
          "data": {
            "text/plain": [
              "<keras.callbacks.History at 0x7fda03a4b5d0>"
            ]
          },
          "metadata": {},
          "execution_count": 46
        }
      ]
    },
    {
      "cell_type": "code",
      "source": [],
      "metadata": {
        "colab": {
          "base_uri": "https://localhost:8080/"
        },
        "id": "dVFdGiW-HQ29",
        "outputId": "152048e9-39d3-4ceb-aaef-18ec7e0e0160"
      },
      "execution_count": null,
      "outputs": [
        {
          "output_type": "execute_result",
          "data": {
            "text/plain": [
              "array([\"This controller the bittons had to be mashed so hard it hurt.... which isn't possible when playing something like the mario games. Didnt work\",\n",
              "       'Quick Shipment, Excellent Product. Thank You',\n",
              "       'Great story, great gameplay and tones of replay ability. it took me about two weeks to pass the hole campaign along with all the side quests. longest story driven game i have played.. lots of replay ability',\n",
              "       'they work pretty good so far. i have had no training on drums what so ever..im a guitar player  or keys.on ps3...the drums are the hardest to get use to because my left hand is not use to being used in this manor...but it works.they do what they are suppose to. im still working on learning to play..great set A+. drums'],\n",
              "      dtype=object)"
            ]
          },
          "metadata": {},
          "execution_count": 64
        }
      ]
    },
    {
      "cell_type": "code",
      "source": [
        "product_example_data = product_data[~product_data['product_category'].isna()]\n",
        "prod_examples =  product_example_data['text'].sample(10,random_state=45).to_numpy()\n",
        "prod_examples_processed = preprocess_text(prod_examples)\n",
        "prod_examples_seq = tok.texts_to_sequences(prod_examples_processed)\n",
        "prod_examples_seq = sequence.pad_sequences(prod_examples_seq,maxlen=max_len)"
      ],
      "metadata": {
        "colab": {
          "base_uri": "https://localhost:8080/"
        },
        "id": "J19v0CnyGwYq",
        "outputId": "4cdd027c-7ec8-4840-b7ca-97ff8821a1fa"
      },
      "execution_count": null,
      "outputs": [
        {
          "output_type": "stream",
          "name": "stderr",
          "text": [
            "Processing text: 10it [00:00, 10.53it/s]\n"
          ]
        }
      ]
    },
    {
      "cell_type": "code",
      "source": [
        "review_example_data = review_data[review_data['review_score']==-1.]\n",
        "review_examples = review_example_data['text'].sample(10,random_state=45).to_numpy()\n",
        "# preproces\n",
        "review_examples_processed = preprocess_text(review_examples)\n",
        "# vectorize\n",
        "review_examples_seq = tok.texts_to_sequences(review_examples_processed)\n",
        "review_examples_seq = sequence.pad_sequences(review_examples_seq,maxlen=max_len)\n"
      ],
      "metadata": {
        "colab": {
          "base_uri": "https://localhost:8080/"
        },
        "id": "HQ9w7CBjIBMx",
        "outputId": "ef655bb8-5fbc-4acb-d688-9aecd2e528b5"
      },
      "execution_count": null,
      "outputs": [
        {
          "output_type": "stream",
          "name": "stderr",
          "text": [
            "Processing text: 10it [00:00, 10.53it/s]\n"
          ]
        }
      ]
    },
    {
      "cell_type": "code",
      "source": [
        "y_hat = prod_model.predict(prod_examples_seq)\n",
        "for x,y in zip(prod_examples,y_hat):\n",
        "  print(x,p_le.inverse_transform([np.argmax(y)]))\n",
        "  print(\"-------------------------\")"
      ],
      "metadata": {
        "colab": {
          "base_uri": "https://localhost:8080/"
        },
        "id": "EH5iboTNH7Cr",
        "outputId": "15db27b0-8b86-4667-b2d2-bdcfa1c07569"
      },
      "execution_count": null,
      "outputs": [
        {
          "output_type": "stream",
          "name": "stdout",
          "text": [
            "This controller the bittons had to be mashed so hard it hurt.... which isn't possible when playing something like the mario games. Didnt work ['video_games']\n",
            "-------------------------\n",
            "Quick Shipment, Excellent Product. Thank You ['musical_instruments']\n",
            "-------------------------\n",
            "Great story, great gameplay and tones of replay ability. it took me about two weeks to pass the hole campaign along with all the side quests. longest story driven game i have played.. lots of replay ability ['video_games']\n",
            "-------------------------\n",
            "they work pretty good so far. i have had no training on drums what so ever..im a guitar player  or keys.on ps3...the drums are the hardest to get use to because my left hand is not use to being used in this manor...but it works.they do what they are suppose to. im still working on learning to play..great set A+. drums ['musical_instruments']\n",
            "-------------------------\n",
            "Nice headsets and good audio quality, excellent and sturdy build and very comfortable.\n",
            "The mic in a little bit tricky but have an average volume and is bendable.\n",
            "\n",
            "Thanks.. Excellent headsets for a good price. ['video_games']\n",
            "-------------------------\n",
            "Hail The Gathered!  I bow to your superior intellect and wisdow!  In the future this expansion pack will be an object of worship!  Hail! Hail!. At last - Genius! ['video_games']\n",
            "-------------------------\n",
            "I loved the original manhunt, I have to admit it, I loved it.  I though it was a sick and delightfully twisted game...no...art!  It was spooky, gruesome, smart, intense, and totally enjoyable for someone like me.  This one, like most sequels....sucks.  It looks like the first, it plays like the first, it's in the same vein as the first, but it's the details where it falls apart, and I mean bad!\n",
            "\n",
            "In the original, the levels were layed out where you were mostly stealth killing or getting into cover-based shootouts and sometimes a blend of the two, and the levels and AI were set up for that type of experience.  This game has no clue what it wants to be!  I tried to do mostly stealth kills, but sorry to say, you wind up just shooting most of em'.  Speaking of AI though, the AI in this one is really bad!!!  In the first one a hunter would inspect a brick, hitting a wall, or finding his dead buddy, but in Manhunt 2, they usually don't care, spoiling any opportunity to lure a hunter away from his friends to disfigure and break him.  Thus, you will find it wayyy easier and much less frustrating to just snipe a guy from the shadows, turning a once great stealth platform into...a really lame shooter.\n",
            "\n",
            "Another real problem, is the story.  In place of a meager, bare bones type of plot, (Kill for sick director's pleasure and survival, then revenge) with a simple plot that has been made far too rushed and scattered.  Gone is the simple and enjoyable kill from point A to point B plot, now, it's all twisted with \"gotta find this guy, gotta find this chick, gotta figure this out....who am I, what happened\"  This doesn't directly affect the action, but somehow it makes for a very rushed and detached experience, hardly any of it worth remembering.  Essentially they made a mountain out of a mole-hill, and it really just annoys more than anything.  I had a hard time of following why I was at a place and found it much simpler in the original to just know I was on my way through to fight another type of gang for the director's joy, but now it's all finding out about a character I care nothing for in a story I care nothing for.  Coupled with useless flashbacks and twists in the plot, I don't care enough to remember any of this game.\n",
            "\n",
            "Even when the director in Manhunt bacame impatient, you were scolded by the talented Brian Cox, now an annoying nobody screeches at you which really disrupts the type of flow the first had.  No velvety voice of a known and great actor, now your just getting bitched by some guy that kinda sounds like a cross between a bitchy girlfriend and Ray Liotta, but not nearly as cool as Ray Liotta, and almost as irritating as your ex-girlfriend.\n",
            "\n",
            "Thinking about it, I doubt even if the stealth kill weren't blurred, this still wouldn't be anything nearly as fun as the first.  When a you execute a hunter, at the point where you strike or shoot or stab or slash a guy, a fast and artsy blur jolts everything and the shade of everything goes negative for a bit.  About 60% of the kill is plainly visible, but 40% is blurred.  These kills are actually pretty good, and I especially like the firearm executions, but coupled with the filters and obstructions they had to program in, it really doesn't matter.  Some of the environment kills are entertaining, but hardly worth the addition if they were at the cost of everything else I disliked.\n",
            "\n",
            "In short people, everything in this game reminded me of Manhunt, it reminded me of how it's NOT...manhunt and certainly of how it's not as good as Manhunt.  I will now sell this game, and fire up the original for the experience that this game failed miserably to acheive, and no doubt I will crack a sinister smile and bathe in the joy of hearing Brian Cox direct me to massacre a bunch of scumbags.. Just replay the first one and save your money ['video_games']\n",
            "-------------------------\n",
            "Love the variety in color and sizes..  ['musical_instruments']\n",
            "-------------------------\n",
            "I want to love this mouse. I've had 2 of the prior Razer Naga MMO mice. The first version was my favorite. This one is much like the later editions in terms of shape, but I like how it's heavier. It feels solid. Presumably due to the battery inside. It has a slightly different shape than the 2014 version I replaced which feels a tad better.\n",
            "\n",
            "Problem is, that this wireless mouse is just as unreliable as you'd expect from a wireless mouse. It's HORRIBLE. Loses connection constantly. Also, the battery dies before I'm done for the night. You can plug it directly in, but for some reason that switches drivers requiring a restart or else you'll have even worse performance than when you're wireless.\n",
            "\n",
            "So, I thought I'd just leave it plugged in all the time. However, I still get tons of bugginess. Right now, I'm getting constant glitching even though I'm wired directly in.\n",
            "\n",
            "In short. This is definitively the WORST mouse I've ever used. I'm replacing it with my 2014 broken Razer Naga awaiting for the wired versions to get back in stock (I assume there is a new refresh right now).. Doesn't do it's primary function, which is to be a reliable mouse while gaming. ['video_games']\n",
            "-------------------------\n",
            "exactly what i ordered. There was no surprises. easy to string.  husband plays and absolutely loves the new set of strings. martin mandolin strings ['musical_instruments']\n",
            "-------------------------\n"
          ]
        }
      ]
    },
    {
      "cell_type": "code",
      "source": [
        "y_hat = rev_model.predict(review_examples_seq)\n",
        "for x,y in zip(prod_examples,y_hat):\n",
        "  print(x,r_le.inverse_transform([np.argmax(y)]))\n",
        "  print(\"-------------------------\")"
      ],
      "metadata": {
        "colab": {
          "base_uri": "https://localhost:8080/"
        },
        "id": "6pot4TA28hGl",
        "outputId": "86b12551-7ce7-47c3-f190-15725a94c607"
      },
      "execution_count": null,
      "outputs": [
        {
          "output_type": "stream",
          "name": "stdout",
          "text": [
            "This controller the bittons had to be mashed so hard it hurt.... which isn't possible when playing something like the mario games. Didnt work [5.]\n",
            "-------------------------\n",
            "Quick Shipment, Excellent Product. Thank You [5.]\n",
            "-------------------------\n",
            "Great story, great gameplay and tones of replay ability. it took me about two weeks to pass the hole campaign along with all the side quests. longest story driven game i have played.. lots of replay ability [5.]\n",
            "-------------------------\n",
            "they work pretty good so far. i have had no training on drums what so ever..im a guitar player  or keys.on ps3...the drums are the hardest to get use to because my left hand is not use to being used in this manor...but it works.they do what they are suppose to. im still working on learning to play..great set A+. drums [5.]\n",
            "-------------------------\n",
            "Nice headsets and good audio quality, excellent and sturdy build and very comfortable.\n",
            "The mic in a little bit tricky but have an average volume and is bendable.\n",
            "\n",
            "Thanks.. Excellent headsets for a good price. [5.]\n",
            "-------------------------\n",
            "Hail The Gathered!  I bow to your superior intellect and wisdow!  In the future this expansion pack will be an object of worship!  Hail! Hail!. At last - Genius! [5.]\n",
            "-------------------------\n",
            "I loved the original manhunt, I have to admit it, I loved it.  I though it was a sick and delightfully twisted game...no...art!  It was spooky, gruesome, smart, intense, and totally enjoyable for someone like me.  This one, like most sequels....sucks.  It looks like the first, it plays like the first, it's in the same vein as the first, but it's the details where it falls apart, and I mean bad!\n",
            "\n",
            "In the original, the levels were layed out where you were mostly stealth killing or getting into cover-based shootouts and sometimes a blend of the two, and the levels and AI were set up for that type of experience.  This game has no clue what it wants to be!  I tried to do mostly stealth kills, but sorry to say, you wind up just shooting most of em'.  Speaking of AI though, the AI in this one is really bad!!!  In the first one a hunter would inspect a brick, hitting a wall, or finding his dead buddy, but in Manhunt 2, they usually don't care, spoiling any opportunity to lure a hunter away from his friends to disfigure and break him.  Thus, you will find it wayyy easier and much less frustrating to just snipe a guy from the shadows, turning a once great stealth platform into...a really lame shooter.\n",
            "\n",
            "Another real problem, is the story.  In place of a meager, bare bones type of plot, (Kill for sick director's pleasure and survival, then revenge) with a simple plot that has been made far too rushed and scattered.  Gone is the simple and enjoyable kill from point A to point B plot, now, it's all twisted with \"gotta find this guy, gotta find this chick, gotta figure this out....who am I, what happened\"  This doesn't directly affect the action, but somehow it makes for a very rushed and detached experience, hardly any of it worth remembering.  Essentially they made a mountain out of a mole-hill, and it really just annoys more than anything.  I had a hard time of following why I was at a place and found it much simpler in the original to just know I was on my way through to fight another type of gang for the director's joy, but now it's all finding out about a character I care nothing for in a story I care nothing for.  Coupled with useless flashbacks and twists in the plot, I don't care enough to remember any of this game.\n",
            "\n",
            "Even when the director in Manhunt bacame impatient, you were scolded by the talented Brian Cox, now an annoying nobody screeches at you which really disrupts the type of flow the first had.  No velvety voice of a known and great actor, now your just getting bitched by some guy that kinda sounds like a cross between a bitchy girlfriend and Ray Liotta, but not nearly as cool as Ray Liotta, and almost as irritating as your ex-girlfriend.\n",
            "\n",
            "Thinking about it, I doubt even if the stealth kill weren't blurred, this still wouldn't be anything nearly as fun as the first.  When a you execute a hunter, at the point where you strike or shoot or stab or slash a guy, a fast and artsy blur jolts everything and the shade of everything goes negative for a bit.  About 60% of the kill is plainly visible, but 40% is blurred.  These kills are actually pretty good, and I especially like the firearm executions, but coupled with the filters and obstructions they had to program in, it really doesn't matter.  Some of the environment kills are entertaining, but hardly worth the addition if they were at the cost of everything else I disliked.\n",
            "\n",
            "In short people, everything in this game reminded me of Manhunt, it reminded me of how it's NOT...manhunt and certainly of how it's not as good as Manhunt.  I will now sell this game, and fire up the original for the experience that this game failed miserably to acheive, and no doubt I will crack a sinister smile and bathe in the joy of hearing Brian Cox direct me to massacre a bunch of scumbags.. Just replay the first one and save your money [5.]\n",
            "-------------------------\n",
            "Love the variety in color and sizes..  [5.]\n",
            "-------------------------\n",
            "I want to love this mouse. I've had 2 of the prior Razer Naga MMO mice. The first version was my favorite. This one is much like the later editions in terms of shape, but I like how it's heavier. It feels solid. Presumably due to the battery inside. It has a slightly different shape than the 2014 version I replaced which feels a tad better.\n",
            "\n",
            "Problem is, that this wireless mouse is just as unreliable as you'd expect from a wireless mouse. It's HORRIBLE. Loses connection constantly. Also, the battery dies before I'm done for the night. You can plug it directly in, but for some reason that switches drivers requiring a restart or else you'll have even worse performance than when you're wireless.\n",
            "\n",
            "So, I thought I'd just leave it plugged in all the time. However, I still get tons of bugginess. Right now, I'm getting constant glitching even though I'm wired directly in.\n",
            "\n",
            "In short. This is definitively the WORST mouse I've ever used. I'm replacing it with my 2014 broken Razer Naga awaiting for the wired versions to get back in stock (I assume there is a new refresh right now).. Doesn't do it's primary function, which is to be a reliable mouse while gaming. [5.]\n",
            "-------------------------\n",
            "exactly what i ordered. There was no surprises. easy to string.  husband plays and absolutely loves the new set of strings. martin mandolin strings [5.]\n",
            "-------------------------\n"
          ]
        }
      ]
    },
    {
      "cell_type": "code",
      "source": [],
      "metadata": {
        "id": "-tdgxPi1JDUS"
      },
      "execution_count": null,
      "outputs": []
    }
  ]
}