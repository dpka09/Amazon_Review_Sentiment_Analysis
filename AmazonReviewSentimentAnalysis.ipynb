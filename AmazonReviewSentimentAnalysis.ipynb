{
  "cells": [
    {
      "cell_type": "code",
      "source": [
        "from google.colab import drive\n",
        "drive.mount('/content/drive')"
      ],
      "metadata": {
        "colab": {
          "base_uri": "https://localhost:8080/"
        },
        "id": "MGV0wcXVeiff",
        "outputId": "5c31ca96-645a-4965-a1b1-30da5d7d295c"
      },
      "id": "MGV0wcXVeiff",
      "execution_count": null,
      "outputs": [
        {
          "output_type": "stream",
          "name": "stdout",
          "text": [
            "Mounted at /content/drive\n"
          ]
        }
      ]
    },
    {
      "cell_type": "markdown",
      "source": [
        "# Import all required libraries and dependencies\n"
      ],
      "metadata": {
        "id": "6e9bDEElC11y"
      },
      "id": "6e9bDEElC11y"
    },
    {
      "cell_type": "code",
      "execution_count": null,
      "id": "706542df",
      "metadata": {
        "id": "706542df",
        "colab": {
          "base_uri": "https://localhost:8080/"
        },
        "outputId": "2aa3ec6b-fc2f-4102-f51a-34b19ba19e55"
      },
      "outputs": [
        {
          "output_type": "stream",
          "name": "stdout",
          "text": [
            "[nltk_data] Downloading package punkt to /root/nltk_data...\n",
            "[nltk_data]   Package punkt is already up-to-date!\n",
            "[nltk_data] Downloading package wordnet to /root/nltk_data...\n",
            "[nltk_data]   Package wordnet is already up-to-date!\n",
            "[nltk_data] Downloading package averaged_perceptron_tagger to\n",
            "[nltk_data]     /root/nltk_data...\n",
            "[nltk_data]   Package averaged_perceptron_tagger is already up-to-\n",
            "[nltk_data]       date!\n",
            "[nltk_data] Downloading package stopwords to /root/nltk_data...\n",
            "[nltk_data]   Package stopwords is already up-to-date!\n"
          ]
        },
        {
          "output_type": "execute_result",
          "data": {
            "text/plain": [
              "True"
            ]
          },
          "metadata": {},
          "execution_count": 42
        }
      ],
      "source": [
        "import numpy as np\n",
        "import seaborn as sns\n",
        "import matplotlib.pyplot as plt\n",
        "import pandas as pd\n",
        "from tqdm import tqdm\n",
        "from nltk.tokenize import word_tokenize\n",
        "from nltk import pos_tag\n",
        "from nltk.corpus import stopwords\n",
        "from nltk.stem import WordNetLemmatizer\n",
        "from sklearn.preprocessing import LabelEncoder\n",
        "from sklearn.model_selection import GridSearchCV\n",
        "from collections import defaultdict\n",
        "from nltk.corpus import wordnet as wn\n",
        "from sklearn.feature_extraction.text import TfidfVectorizer\n",
        "from sklearn import model_selection, naive_bayes, svm\n",
        "from sklearn.metrics import accuracy_score\n",
        "\n",
        "import pickle\n",
        "import nltk\n",
        "nltk.download('punkt')\n",
        "nltk.download('wordnet')\n",
        "nltk.download('averaged_perceptron_tagger')\n",
        "import tensorflow as tf\n",
        "nltk.download('stopwords')"
      ]
    },
    {
      "cell_type": "code",
      "source": [
        "import tensorflow as tf\n",
        "\n",
        "from tensorflow.keras.preprocessing.text import Tokenizer\n",
        "from  tensorflow.keras.preprocessing import sequence\n",
        "\n",
        "from sklearn.preprocessing import LabelEncoder\n",
        "from tensorflow.keras.utils import to_categorical"
      ],
      "metadata": {
        "id": "N3BhvQjzXNAS"
      },
      "id": "N3BhvQjzXNAS",
      "execution_count": null,
      "outputs": []
    },
    {
      "cell_type": "code",
      "source": [
        "np.random.seed(123) #random seed for consistency"
      ],
      "metadata": {
        "id": "1Uraici-4R3H"
      },
      "id": "1Uraici-4R3H",
      "execution_count": null,
      "outputs": []
    },
    {
      "cell_type": "markdown",
      "source": [
        "# Load dataset"
      ],
      "metadata": {
        "id": "u6GS98mnDFZZ"
      },
      "id": "u6GS98mnDFZZ"
    },
    {
      "cell_type": "code",
      "execution_count": null,
      "id": "cf7f1b1c",
      "metadata": {
        "id": "cf7f1b1c"
      },
      "outputs": [],
      "source": [
        "data= pd.read_csv(\"/content/drive/MyDrive/AML coursework/Amazon_review.csv\")"
      ]
    },
    {
      "cell_type": "code",
      "execution_count": null,
      "id": "3224ad17",
      "metadata": {
        "id": "3224ad17",
        "colab": {
          "base_uri": "https://localhost:8080/",
          "height": 205
        },
        "outputId": "af596d15-e89b-46f0-801a-f48b2a314fdc"
      },
      "outputs": [
        {
          "output_type": "execute_result",
          "data": {
            "text/plain": [
              "               review_id                                               text  \\\n",
              "0  product_review_000000               Works great!. A Decent Condenser Mic   \n",
              "1  product_review_000001  All these other posts about DRM this and DRM t...   \n",
              "2  product_review_000002  Great looking strings on my black classical gu...   \n",
              "3  product_review_000003  I know people rant and rave about this game li...   \n",
              "4  product_review_000004  these things are great! just takes some time t...   \n",
              "\n",
              "  verified  review_score     product_category  \n",
              "0    False           5.0  musical_instruments  \n",
              "1    False           1.0          video_games  \n",
              "2     True           5.0  musical_instruments  \n",
              "3     True           2.0          video_games  \n",
              "4     True           5.0          video_games  "
            ],
            "text/html": [
              "\n",
              "  <div id=\"df-5aab4802-d39e-4302-a231-ac775842f6bc\">\n",
              "    <div class=\"colab-df-container\">\n",
              "      <div>\n",
              "<style scoped>\n",
              "    .dataframe tbody tr th:only-of-type {\n",
              "        vertical-align: middle;\n",
              "    }\n",
              "\n",
              "    .dataframe tbody tr th {\n",
              "        vertical-align: top;\n",
              "    }\n",
              "\n",
              "    .dataframe thead th {\n",
              "        text-align: right;\n",
              "    }\n",
              "</style>\n",
              "<table border=\"1\" class=\"dataframe\">\n",
              "  <thead>\n",
              "    <tr style=\"text-align: right;\">\n",
              "      <th></th>\n",
              "      <th>review_id</th>\n",
              "      <th>text</th>\n",
              "      <th>verified</th>\n",
              "      <th>review_score</th>\n",
              "      <th>product_category</th>\n",
              "    </tr>\n",
              "  </thead>\n",
              "  <tbody>\n",
              "    <tr>\n",
              "      <th>0</th>\n",
              "      <td>product_review_000000</td>\n",
              "      <td>Works great!. A Decent Condenser Mic</td>\n",
              "      <td>False</td>\n",
              "      <td>5.0</td>\n",
              "      <td>musical_instruments</td>\n",
              "    </tr>\n",
              "    <tr>\n",
              "      <th>1</th>\n",
              "      <td>product_review_000001</td>\n",
              "      <td>All these other posts about DRM this and DRM t...</td>\n",
              "      <td>False</td>\n",
              "      <td>1.0</td>\n",
              "      <td>video_games</td>\n",
              "    </tr>\n",
              "    <tr>\n",
              "      <th>2</th>\n",
              "      <td>product_review_000002</td>\n",
              "      <td>Great looking strings on my black classical gu...</td>\n",
              "      <td>True</td>\n",
              "      <td>5.0</td>\n",
              "      <td>musical_instruments</td>\n",
              "    </tr>\n",
              "    <tr>\n",
              "      <th>3</th>\n",
              "      <td>product_review_000003</td>\n",
              "      <td>I know people rant and rave about this game li...</td>\n",
              "      <td>True</td>\n",
              "      <td>2.0</td>\n",
              "      <td>video_games</td>\n",
              "    </tr>\n",
              "    <tr>\n",
              "      <th>4</th>\n",
              "      <td>product_review_000004</td>\n",
              "      <td>these things are great! just takes some time t...</td>\n",
              "      <td>True</td>\n",
              "      <td>5.0</td>\n",
              "      <td>video_games</td>\n",
              "    </tr>\n",
              "  </tbody>\n",
              "</table>\n",
              "</div>\n",
              "      <button class=\"colab-df-convert\" onclick=\"convertToInteractive('df-5aab4802-d39e-4302-a231-ac775842f6bc')\"\n",
              "              title=\"Convert this dataframe to an interactive table.\"\n",
              "              style=\"display:none;\">\n",
              "        \n",
              "  <svg xmlns=\"http://www.w3.org/2000/svg\" height=\"24px\"viewBox=\"0 0 24 24\"\n",
              "       width=\"24px\">\n",
              "    <path d=\"M0 0h24v24H0V0z\" fill=\"none\"/>\n",
              "    <path d=\"M18.56 5.44l.94 2.06.94-2.06 2.06-.94-2.06-.94-.94-2.06-.94 2.06-2.06.94zm-11 1L8.5 8.5l.94-2.06 2.06-.94-2.06-.94L8.5 2.5l-.94 2.06-2.06.94zm10 10l.94 2.06.94-2.06 2.06-.94-2.06-.94-.94-2.06-.94 2.06-2.06.94z\"/><path d=\"M17.41 7.96l-1.37-1.37c-.4-.4-.92-.59-1.43-.59-.52 0-1.04.2-1.43.59L10.3 9.45l-7.72 7.72c-.78.78-.78 2.05 0 2.83L4 21.41c.39.39.9.59 1.41.59.51 0 1.02-.2 1.41-.59l7.78-7.78 2.81-2.81c.8-.78.8-2.07 0-2.86zM5.41 20L4 18.59l7.72-7.72 1.47 1.35L5.41 20z\"/>\n",
              "  </svg>\n",
              "      </button>\n",
              "      \n",
              "  <style>\n",
              "    .colab-df-container {\n",
              "      display:flex;\n",
              "      flex-wrap:wrap;\n",
              "      gap: 12px;\n",
              "    }\n",
              "\n",
              "    .colab-df-convert {\n",
              "      background-color: #E8F0FE;\n",
              "      border: none;\n",
              "      border-radius: 50%;\n",
              "      cursor: pointer;\n",
              "      display: none;\n",
              "      fill: #1967D2;\n",
              "      height: 32px;\n",
              "      padding: 0 0 0 0;\n",
              "      width: 32px;\n",
              "    }\n",
              "\n",
              "    .colab-df-convert:hover {\n",
              "      background-color: #E2EBFA;\n",
              "      box-shadow: 0px 1px 2px rgba(60, 64, 67, 0.3), 0px 1px 3px 1px rgba(60, 64, 67, 0.15);\n",
              "      fill: #174EA6;\n",
              "    }\n",
              "\n",
              "    [theme=dark] .colab-df-convert {\n",
              "      background-color: #3B4455;\n",
              "      fill: #D2E3FC;\n",
              "    }\n",
              "\n",
              "    [theme=dark] .colab-df-convert:hover {\n",
              "      background-color: #434B5C;\n",
              "      box-shadow: 0px 1px 3px 1px rgba(0, 0, 0, 0.15);\n",
              "      filter: drop-shadow(0px 1px 2px rgba(0, 0, 0, 0.3));\n",
              "      fill: #FFFFFF;\n",
              "    }\n",
              "  </style>\n",
              "\n",
              "      <script>\n",
              "        const buttonEl =\n",
              "          document.querySelector('#df-5aab4802-d39e-4302-a231-ac775842f6bc button.colab-df-convert');\n",
              "        buttonEl.style.display =\n",
              "          google.colab.kernel.accessAllowed ? 'block' : 'none';\n",
              "\n",
              "        async function convertToInteractive(key) {\n",
              "          const element = document.querySelector('#df-5aab4802-d39e-4302-a231-ac775842f6bc');\n",
              "          const dataTable =\n",
              "            await google.colab.kernel.invokeFunction('convertToInteractive',\n",
              "                                                     [key], {});\n",
              "          if (!dataTable) return;\n",
              "\n",
              "          const docLinkHtml = 'Like what you see? Visit the ' +\n",
              "            '<a target=\"_blank\" href=https://colab.research.google.com/notebooks/data_table.ipynb>data table notebook</a>'\n",
              "            + ' to learn more about interactive tables.';\n",
              "          element.innerHTML = '';\n",
              "          dataTable['output_type'] = 'display_data';\n",
              "          await google.colab.output.renderOutput(dataTable, element);\n",
              "          const docLink = document.createElement('div');\n",
              "          docLink.innerHTML = docLinkHtml;\n",
              "          element.appendChild(docLink);\n",
              "        }\n",
              "      </script>\n",
              "    </div>\n",
              "  </div>\n",
              "  "
            ]
          },
          "metadata": {},
          "execution_count": 5
        }
      ],
      "source": [
        "data.head()"
      ]
    },
    {
      "cell_type": "markdown",
      "source": [
        "# Remove empty text reviews"
      ],
      "metadata": {
        "id": "b-mjM6jLDSW3"
      },
      "id": "b-mjM6jLDSW3"
    },
    {
      "cell_type": "code",
      "source": [
        "data = data[~data['text'].isna()]"
      ],
      "metadata": {
        "id": "lvLVQFv74ktm"
      },
      "id": "lvLVQFv74ktm",
      "execution_count": null,
      "outputs": []
    },
    {
      "cell_type": "markdown",
      "source": [
        "# Seperate data for rating and category prediction\n",
        "\n",
        "Sperate train data and taking data with no label for example"
      ],
      "metadata": {
        "id": "OOKm98ycFR_m"
      },
      "id": "OOKm98ycFR_m"
    },
    {
      "cell_type": "markdown",
      "source": [
        "## For Review rating\n"
      ],
      "metadata": {
        "id": "P--3V5Z8F7GW"
      },
      "id": "P--3V5Z8F7GW"
    },
    {
      "cell_type": "code",
      "source": [
        "review_data = data[['text','review_score']]\n",
        "print(review_data.head())\n",
        "\n",
        "\n",
        "review_train_data = review_data[review_data['review_score']!=-1.]\n",
        "review_example_data = review_data[review_data['review_score']==-1.]\n",
        "print(\"Number of training data \",review_train_data.shape[0])\n",
        "print(\"Number of data for example \",review_example_data.shape[0])"
      ],
      "metadata": {
        "colab": {
          "base_uri": "https://localhost:8080/"
        },
        "id": "thbP_aNyFZV2",
        "outputId": "88707a62-faa0-41b7-cd7d-2dcc008f7519"
      },
      "id": "thbP_aNyFZV2",
      "execution_count": null,
      "outputs": [
        {
          "output_type": "stream",
          "name": "stdout",
          "text": [
            "                                                text  review_score\n",
            "0               Works great!. A Decent Condenser Mic           5.0\n",
            "1  All these other posts about DRM this and DRM t...           1.0\n",
            "2  Great looking strings on my black classical gu...           5.0\n",
            "3  I know people rant and rave about this game li...           2.0\n",
            "4  these things are great! just takes some time t...           5.0\n",
            "Number of training data  31997\n",
            "Number of data for example  907\n"
          ]
        }
      ]
    },
    {
      "cell_type": "code",
      "source": [
        "r_texts_train = review_train_data['text'].values\n",
        "r_texts_example = review_example_data['text'].values\n",
        "r_labels_train = review_train_data['review_score'].values"
      ],
      "metadata": {
        "id": "rv36mHUvF57O"
      },
      "id": "rv36mHUvF57O",
      "execution_count": null,
      "outputs": []
    },
    {
      "cell_type": "code",
      "source": [
        "print(\"Labels : \",set(r_labels_train))"
      ],
      "metadata": {
        "colab": {
          "base_uri": "https://localhost:8080/"
        },
        "id": "21MhoQw8Gbsn",
        "outputId": "9f1f795d-8b49-46ac-bf45-cadc14023002"
      },
      "id": "21MhoQw8Gbsn",
      "execution_count": null,
      "outputs": [
        {
          "output_type": "stream",
          "name": "stdout",
          "text": [
            "Labels :  {1.0, 2.0, 3.0, 4.0, 5.0}\n"
          ]
        }
      ]
    },
    {
      "cell_type": "markdown",
      "source": [
        "## For Product Category\n"
      ],
      "metadata": {
        "id": "U1agNrKZF_ZO"
      },
      "id": "U1agNrKZF_ZO"
    },
    {
      "cell_type": "code",
      "source": [
        "product_data = data[['text','product_category']]\n",
        "print(product_data.head())\n",
        "\n",
        "product_train_data = product_data[~product_data['product_category'].isna()]\n",
        "product_example_data = product_data[product_data['product_category'].isna()]\n",
        "print(\"Number of training data \",product_train_data.shape[0])\n",
        "print(\"Number of data for example \",product_example_data.shape[0])"
      ],
      "metadata": {
        "colab": {
          "base_uri": "https://localhost:8080/"
        },
        "id": "9u8QfprTFryu",
        "outputId": "b23484c5-9918-4780-e73f-7dd41981fb37"
      },
      "id": "9u8QfprTFryu",
      "execution_count": null,
      "outputs": [
        {
          "output_type": "stream",
          "name": "stdout",
          "text": [
            "                                                text     product_category\n",
            "0               Works great!. A Decent Condenser Mic  musical_instruments\n",
            "1  All these other posts about DRM this and DRM t...          video_games\n",
            "2  Great looking strings on my black classical gu...  musical_instruments\n",
            "3  I know people rant and rave about this game li...          video_games\n",
            "4  these things are great! just takes some time t...          video_games\n",
            "Number of training data  31998\n",
            "Number of data for example  906\n"
          ]
        }
      ]
    },
    {
      "cell_type": "code",
      "source": [
        "p_texts_train = product_train_data['text'].values\n",
        "p_texts_example = product_example_data['text'].values\n",
        "p_labels_train = product_train_data['product_category'].values"
      ],
      "metadata": {
        "id": "8QYL3_SmGFPu"
      },
      "id": "8QYL3_SmGFPu",
      "execution_count": null,
      "outputs": []
    },
    {
      "cell_type": "code",
      "source": [
        "p_texts_train.shape,p_labels_train.shape"
      ],
      "metadata": {
        "colab": {
          "base_uri": "https://localhost:8080/"
        },
        "id": "TJj0QLQNKt95",
        "outputId": "3acd2c61-eecc-4440-ee58-0f69ccae3cf2"
      },
      "id": "TJj0QLQNKt95",
      "execution_count": null,
      "outputs": [
        {
          "output_type": "execute_result",
          "data": {
            "text/plain": [
              "((31998,), (31998,))"
            ]
          },
          "metadata": {},
          "execution_count": 29
        }
      ]
    },
    {
      "cell_type": "code",
      "source": [
        "print(\"Labels : \",set(p_labels_train))"
      ],
      "metadata": {
        "colab": {
          "base_uri": "https://localhost:8080/"
        },
        "id": "vQcEcfajGhEE",
        "outputId": "e468e67f-1ac5-41f5-99cb-1ac9ef85ce1f"
      },
      "id": "vQcEcfajGhEE",
      "execution_count": null,
      "outputs": [
        {
          "output_type": "stream",
          "name": "stdout",
          "text": [
            "Labels :  {'video_games', 'musical_instruments'}\n"
          ]
        }
      ]
    },
    {
      "cell_type": "markdown",
      "source": [
        "# Preprocess text\n",
        "- Convert text to lowercase\n",
        "- Tokenize sentences to words\n",
        "- Find parts of speech tag of each word in the sentence\n",
        "- Lemmatize each word with respect to its POS tag\n",
        "\n"
      ],
      "metadata": {
        "id": "ZvpDIomRDc9Z"
      },
      "id": "ZvpDIomRDc9Z"
    },
    {
      "cell_type": "code",
      "source": [
        "from tqdm import tqdm\n",
        "def preprocess_text(text_data):\n",
        "\n",
        "  data = [x.lower() for x in text_data]\n",
        "  data = [word_tokenize(entry) for entry in data]\n",
        "\n",
        "  tag_map = defaultdict(lambda : wn.NOUN)\n",
        "  tag_map['J'] = wn.ADJ\n",
        "  tag_map['V'] = wn.VERB\n",
        "  tag_map['R'] = wn.ADV\n",
        "  for index,entry in tqdm(enumerate(data),desc = \"Processing text\"):\n",
        "    final_words = []\n",
        "    word_lemmatized = WordNetLemmatizer()\n",
        "    for word, tag in pos_tag(entry):\n",
        "      if word not in stopwords.words('english') and word.isalpha():\n",
        "        word_final = word_lemmatized.lemmatize(word,tag_map[tag[0]])\n",
        "        final_words.append(word_final)\n",
        "    data[index] = final_words\n",
        "  data = [\" \".join(sentence) for sentence in data]\n",
        "  return data\n"
      ],
      "metadata": {
        "id": "uaBe34KcDfpg"
      },
      "id": "uaBe34KcDfpg",
      "execution_count": null,
      "outputs": []
    },
    {
      "cell_type": "code",
      "source": [
        "product_X_train_processed = preprocess_text(p_texts_train)\n",
        "review_X_train_processed = preprocess_text(r_texts_train)"
      ],
      "metadata": {
        "id": "bfUQigMKrdRH",
        "colab": {
          "base_uri": "https://localhost:8080/"
        },
        "outputId": "d5deb11e-8a27-4dae-98bd-1d72ab370a1d"
      },
      "execution_count": null,
      "outputs": [
        {
          "output_type": "stream",
          "name": "stderr",
          "text": [
            "Processing text: 31998it [14:23, 37.07it/s]\n",
            "Processing text: 31997it [14:09, 37.68it/s]\n"
          ]
        }
      ],
      "id": "bfUQigMKrdRH"
    },
    {
      "cell_type": "code",
      "source": [
        "pickle.dump(review_X_train_processed,open(\"/content/review_X_train_processed\",'wb'))\n",
        "pickle.dump(product_X_train_processed,open(\"/content/product_X_train_processed\",'wb'))"
      ],
      "metadata": {
        "id": "9H2Iwb_g5two"
      },
      "execution_count": null,
      "outputs": [],
      "id": "9H2Iwb_g5two"
    },
    {
      "cell_type": "code",
      "source": [
        "review_X_train_processed = pickle.load(open(\"/content/review_X_train_processed\",'rb'))\n",
        "product_X_train_processed = pickle.load(open(\"/content/product_X_train_processed\",'rb'))"
      ],
      "metadata": {
        "id": "lJmTn4MYG2ut"
      },
      "execution_count": null,
      "outputs": [],
      "id": "lJmTn4MYG2ut"
    },
    {
      "cell_type": "markdown",
      "source": [
        "# Perform EDA\n"
      ],
      "metadata": {
        "id": "NY8ZJZNApVEY"
      },
      "id": "NY8ZJZNApVEY"
    },
    {
      "cell_type": "code",
      "source": [
        "review_count = review_data[review_data['review_score']!=-1.][['review_score']].value_counts().reset_index().rename(columns={0:'count'})\n",
        "sns.barplot(x='review_score',y='count',data=review_count).set(title=\"Count of Reviews grouped by Score\")"
      ],
      "metadata": {
        "colab": {
          "base_uri": "https://localhost:8080/",
          "height": 313
        },
        "id": "JbdVzm1UPs6H",
        "outputId": "e034ed8b-d32d-43be-a54e-b9f887d7287c"
      },
      "id": "JbdVzm1UPs6H",
      "execution_count": null,
      "outputs": [
        {
          "output_type": "execute_result",
          "data": {
            "text/plain": [
              "[Text(0.5, 1.0, 'Count of Reviews grouped by Score')]"
            ]
          },
          "metadata": {},
          "execution_count": 19
        },
        {
          "output_type": "display_data",
          "data": {
            "text/plain": [
              "<Figure size 432x288 with 1 Axes>"
            ],
            "image/png": "[encoded data removed]"
          },
          "metadata": {
            "needs_background": "light"
          }
        }
      ]
    },
    {
      "cell_type": "code",
      "source": [
        "product_count = product_data[['product_category']].value_counts().reset_index().rename(columns={0:'count'})\n",
        "sns.barplot(x='product_category',y='count',data=product_count).set(title=\"Count of Products grouped by Category\")"
      ],
      "metadata": {
        "colab": {
          "base_uri": "https://localhost:8080/",
          "height": 314
        },
        "id": "km-EeLt1gFrx",
        "outputId": "e98c6c38-6eb6-402e-f405-d745c80c48d8"
      },
      "id": "km-EeLt1gFrx",
      "execution_count": null,
      "outputs": [
        {
          "output_type": "execute_result",
          "data": {
            "text/plain": [
              "[Text(0.5, 1.0, 'Count of Products grouped by Category')]"
            ]
          },
          "metadata": {},
          "execution_count": 20
        },
        {
          "output_type": "display_data",
          "data": {
            "text/plain": [
              "<Figure size 432x288 with 1 Axes>"
            ],
            "image/png": "[encoded data removed]"
          },
          "metadata": {
            "needs_background": "light"
          }
        }
      ]
    },
    {
      "cell_type": "markdown",
      "source": [
        "### The following plot shows there is equal distribution of video_game  and musical instrument  for each rating."
      ],
      "metadata": {
        "id": "fgWWCB2MGWzc"
      },
      "id": "fgWWCB2MGWzc"
    },
    {
      "cell_type": "code",
      "source": [
        "#subplot by group\n",
        "non_empty_data = data[~data['product_category'].isna()]\n",
        "video_game_review_count = non_empty_data[non_empty_data['product_category']=='video_games']\n",
        "video_game_review_count = video_game_review_count[['review_score']].value_counts().reset_index().rename(columns={0:'count'})\n",
        "\n",
        "musical_instruments_review_count = non_empty_data[non_empty_data['product_category']=='musical_instruments']\n",
        "musical_instruments_review_count = musical_instruments_review_count[['review_score']].value_counts().reset_index().rename(columns={0:'count'})"
      ],
      "metadata": {
        "id": "Faqhi529eSWq"
      },
      "id": "Faqhi529eSWq",
      "execution_count": null,
      "outputs": []
    },
    {
      "cell_type": "code",
      "source": [
        "sns.barplot(x='review_score',y='count',data=video_game_review_count).set(title='Scores of Video Game Reviews')"
      ],
      "metadata": {
        "colab": {
          "base_uri": "https://localhost:8080/",
          "height": 313
        },
        "id": "LnMhFQp2jkwT",
        "outputId": "43910b1e-b895-4c4e-b63d-05f462c06b18"
      },
      "id": "LnMhFQp2jkwT",
      "execution_count": null,
      "outputs": [
        {
          "output_type": "execute_result",
          "data": {
            "text/plain": [
              "[Text(0.5, 1.0, 'Scores of Video Game Reviews')]"
            ]
          },
          "metadata": {},
          "execution_count": 22
        },
        {
          "output_type": "display_data",
          "data": {
            "text/plain": [
              "<Figure size 432x288 with 1 Axes>"
            ],
            "image/png": "[encoded data removed]"
          },
          "metadata": {
            "needs_background": "light"
          }
        }
      ]
    },
    {
      "cell_type": "code",
      "source": [
        "sns.barplot(x='review_score',y='count',data=musical_instruments_review_count).set(title='Scores of Musical instrument Reviews')"
      ],
      "metadata": {
        "colab": {
          "base_uri": "https://localhost:8080/",
          "height": 313
        },
        "id": "eNihzO0Qmc9V",
        "outputId": "5cebde8f-7d79-4a65-9c7b-e2937b190f42"
      },
      "id": "eNihzO0Qmc9V",
      "execution_count": null,
      "outputs": [
        {
          "output_type": "execute_result",
          "data": {
            "text/plain": [
              "[Text(0.5, 1.0, 'Scores of Musical instrument Reviews')]"
            ]
          },
          "metadata": {},
          "execution_count": 23
        },
        {
          "output_type": "display_data",
          "data": {
            "text/plain": [
              "<Figure size 432x288 with 1 Axes>"
            ],
            "image/png": "[encoded data removed]"
          },
          "metadata": {
            "needs_background": "light"
          }
        }
      ]
    },
    {
      "cell_type": "markdown",
      "source": [
        "# TFID Vectorization\n",
        "Convert text into finite length vectors Term frequency — Inverse document frequency (TFIDF) is based on the Bag of Words (BoW) model, which contains insights about the less relevant and more relevant words in a document.\n",
        "\n",
        "## Term Frequency (TF)\n",
        "It is a measure of the frequency of a word (w) in a document (d). TF is defined as the ratio of a word’s occurrence in a document to the total number of words in a document.\n",
        "\n",
        "## Inverse Document Frequency (IDF)\n",
        "It is the measure of the importance of a word. Term frequency (TF) does not consider the importance of words. Some words such as’ of’, ‘and’, etc. can be most frequently present but are of little significance. IDF provides weightage to each word based on its frequency in the corpus D."
      ],
      "metadata": {
        "id": "dfyS5dTvHgW1"
      },
      "id": "dfyS5dTvHgW1"
    },
    {
      "cell_type": "code",
      "source": [
        "#TFIDF vecotrization\n",
        "Tfidf_vect = TfidfVectorizer(max_features=5000,lowercase=False)\n",
        "Tfidf_vect.fit(product_X_train_processed)\n",
        "review_X_train_vec = Tfidf_vect.transform(review_X_train_processed)\n",
        "product_X_train_vec = Tfidf_vect.transform(product_X_train_processed)"
      ],
      "metadata": {
        "id": "A51r0sswxukU"
      },
      "id": "A51r0sswxukU",
      "execution_count": null,
      "outputs": []
    },
    {
      "cell_type": "markdown",
      "source": [
        "# Encode Labels into vectors\n"
      ],
      "metadata": {
        "id": "U0AItg8VIFkF"
      },
      "id": "U0AItg8VIFkF"
    },
    {
      "cell_type": "code",
      "source": [
        "# encode review labels\n",
        "p_le = LabelEncoder()\n",
        "\n",
        "product_Y_train_vec = p_le.fit_transform(p_labels_train)\n",
        "r_le = LabelEncoder()\n",
        "review_Y_train_vec = r_le.fit_transform(r_labels_train)"
      ],
      "metadata": {
        "id": "-ARsvxcxxw5-"
      },
      "id": "-ARsvxcxxw5-",
      "execution_count": null,
      "outputs": []
    },
    {
      "cell_type": "code",
      "source": [
        "product_X_train_vec.shape"
      ],
      "metadata": {
        "colab": {
          "base_uri": "https://localhost:8080/"
        },
        "id": "zxtuwGdCIrQU",
        "outputId": "824521b3-08f5-4912-f476-171d000c4d01"
      },
      "id": "zxtuwGdCIrQU",
      "execution_count": null,
      "outputs": [
        {
          "output_type": "execute_result",
          "data": {
            "text/plain": [
              "(31997, 5000)"
            ]
          },
          "metadata": {},
          "execution_count": 26
        }
      ]
    },
    {
      "cell_type": "code",
      "source": [
        "p_labels_train.shape"
      ],
      "metadata": {
        "colab": {
          "base_uri": "https://localhost:8080/"
        },
        "id": "Azo_yVj3I3S6",
        "outputId": "e1240443-6c53-41d3-d86a-6416226af2dd"
      },
      "id": "Azo_yVj3I3S6",
      "execution_count": null,
      "outputs": [
        {
          "output_type": "execute_result",
          "data": {
            "text/plain": [
              "(31998,)"
            ]
          },
          "metadata": {},
          "execution_count": 27
        }
      ]
    },
    {
      "cell_type": "markdown",
      "source": [
        "# Train Random forest for Product Category"
      ],
      "metadata": {
        "id": "T_ILPj8ST5oz"
      },
      "id": "T_ILPj8ST5oz"
    },
    {
      "cell_type": "code",
      "source": [
        "#random forest\n",
        "from sklearn.ensemble import RandomForestClassifier\n",
        "#train test split\n",
        "prod_Train_X, prod_Val_X, prod_Train_Y, prod_Val_Y = model_selection.train_test_split(product_X_train_vec,product_Y_train_vec,test_size=0.2)\n",
        "rfc = RandomForestClassifier(n_estimators=10)\n",
        "rfc.fit(prod_Train_X,prod_Train_Y)"
      ],
      "metadata": {
        "colab": {
          "base_uri": "https://localhost:8080/"
        },
        "id": "ky4OpjyAyJFv",
        "outputId": "3bc6a33e-5e46-4dc8-ab2e-39264cc968a8"
      },
      "id": "ky4OpjyAyJFv",
      "execution_count": null,
      "outputs": [
        {
          "output_type": "execute_result",
          "data": {
            "text/plain": [
              "RandomForestClassifier(n_estimators=10)"
            ]
          },
          "metadata": {},
          "execution_count": 67
        }
      ]
    },
    {
      "cell_type": "markdown",
      "source": [
        "# Test Product Category"
      ],
      "metadata": {
        "id": "Y3zQlh1YT9u7"
      },
      "id": "Y3zQlh1YT9u7"
    },
    {
      "cell_type": "code",
      "source": [
        "y_hat = rfc.predict(prod_Val_X)\n",
        "\n",
        "from sklearn.metrics import confusion_matrix,accuracy_score,classification_report\n",
        "\n",
        "y_actu = pd.Series(prod_Val_Y,name='Actual')\n",
        "acc = accuracy_score(prod_Val_Y,y_hat,normalize=True)\n",
        "print(\"Model accuray : %.2f\"%acc)\n",
        "print(classification_report(prod_Val_Y,y_hat))"
      ],
      "metadata": {
        "colab": {
          "base_uri": "https://localhost:8080/"
        },
        "id": "H_8KKuKJCWH4",
        "outputId": "2539b1ae-6b6a-4048-ca2c-37780e5848c0"
      },
      "id": "H_8KKuKJCWH4",
      "execution_count": null,
      "outputs": [
        {
          "output_type": "stream",
          "name": "stdout",
          "text": [
            "Model accuray : 0.91\n",
            "              precision    recall  f1-score   support\n",
            "\n",
            "           0       0.86      0.85      0.86      2073\n",
            "           1       0.93      0.94      0.93      4327\n",
            "\n",
            "    accuracy                           0.91      6400\n",
            "   macro avg       0.90      0.89      0.90      6400\n",
            "weighted avg       0.91      0.91      0.91      6400\n",
            "\n"
          ]
        }
      ]
    },
    {
      "cell_type": "markdown",
      "source": [
        "# Hyper parameter tuning for product category classification\n",
        "\n",
        "\n"
      ],
      "metadata": {
        "id": "cPkVCEKbUEXW"
      },
      "id": "cPkVCEKbUEXW"
    },
    {
      "cell_type": "code",
      "source": [
        "param_grid = {\n",
        "    'n_estimators': [10,20, 30],\n",
        "    'criterion' :['gini', 'entropy']\n",
        "}"
      ],
      "metadata": {
        "id": "UhI_99m2yW9s"
      },
      "id": "UhI_99m2yW9s",
      "execution_count": null,
      "outputs": []
    },
    {
      "cell_type": "code",
      "source": [
        "CV_rfc = GridSearchCV(estimator=rfc, param_grid=param_grid, cv= 5)\n",
        "CV_rfc.fit(prod_Train_X, prod_Train_Y)"
      ],
      "metadata": {
        "id": "sp4SAI60IlXz",
        "colab": {
          "base_uri": "https://localhost:8080/"
        },
        "outputId": "43f94015-3099-451a-8484-888505188ebd"
      },
      "id": "sp4SAI60IlXz",
      "execution_count": null,
      "outputs": [
        {
          "output_type": "execute_result",
          "data": {
            "text/plain": [
              "GridSearchCV(cv=5, estimator=RandomForestClassifier(),\n",
              "             param_grid={'criterion': ['gini', 'entropy'],\n",
              "                         'n_estimators': [10, 20, 30]})"
            ]
          },
          "metadata": {},
          "execution_count": 64
        }
      ]
    },
    {
      "cell_type": "code",
      "source": [
        "CV_rfc.best_estimator_.criterion"
      ],
      "metadata": {
        "colab": {
          "base_uri": "https://localhost:8080/"
        },
        "id": "fjlcn161foxz",
        "outputId": "b9066ba0-236b-4db5-d4f8-b29b10d58f13"
      },
      "id": "fjlcn161foxz",
      "execution_count": null,
      "outputs": [
        {
          "output_type": "execute_result",
          "data": {
            "text/plain": [
              "RandomForestClassifier(criterion='entropy', n_estimators=20)"
            ]
          },
          "metadata": {},
          "execution_count": 69
        }
      ]
    },
    {
      "cell_type": "code",
      "source": [
        "print(f\"Hyper parameters of best model: \\n criterion: {CV_rfc.best_estimator_.criterion} \\n n_estimators: {CV_rfc.best_estimator_.n_estimators} \",)"
      ],
      "metadata": {
        "colab": {
          "base_uri": "https://localhost:8080/"
        },
        "id": "RJuKkZG-fja4",
        "outputId": "8fba0fd8-ad7c-4104-dd64-aa56cb3e5764"
      },
      "id": "RJuKkZG-fja4",
      "execution_count": null,
      "outputs": [
        {
          "output_type": "stream",
          "name": "stdout",
          "text": [
            "Hyper parameters of best model: \n",
            " criterion: entropy \n",
            " n_estimators: 20 \n"
          ]
        }
      ]
    },
    {
      "cell_type": "code",
      "source": [
        "y_hat = CV_rfc.best_estimator_.predict(prod_Val_X)\n",
        "\n",
        "y_actu = pd.Series(prod_Val_Y,name='Actual')\n",
        "acc = accuracy_score(prod_Val_Y,y_hat,normalize=True)\n",
        "print(\"Model accuray of best model: %.2f\"%acc)\n",
        "print(classification_report(prod_Val_Y,y_hat))"
      ],
      "metadata": {
        "colab": {
          "base_uri": "https://localhost:8080/"
        },
        "id": "cKu1iXSdfW-4",
        "outputId": "b33ddbaa-1479-4b35-fa08-d19ebd5d3375"
      },
      "id": "cKu1iXSdfW-4",
      "execution_count": null,
      "outputs": [
        {
          "output_type": "stream",
          "name": "stdout",
          "text": [
            "Model accuray of best model: 0.98\n",
            "              precision    recall  f1-score   support\n",
            "\n",
            "           0       0.96      0.96      0.96      2073\n",
            "           1       0.98      0.98      0.98      4327\n",
            "\n",
            "    accuracy                           0.98      6400\n",
            "   macro avg       0.97      0.97      0.97      6400\n",
            "weighted avg       0.98      0.98      0.98      6400\n",
            "\n"
          ]
        }
      ]
    },
    {
      "cell_type": "code",
      "source": [
        "p_texts_example_vec = Tfidf_vect.transform(np.random.choice(p_texts_example,10,replace=False))\n",
        "y_hat = CV_rfc.best_estimator_.predict(p_texts_example_vec)\n",
        "\n",
        "for x,y in zip(p_texts_example,y_hat):\n",
        "  print(x,p_le.inverse_transform([y]))\n",
        "  print(\"-------------------------\")"
      ],
      "metadata": {
        "colab": {
          "base_uri": "https://localhost:8080/"
        },
        "id": "-ejbaic3b00x",
        "outputId": "32d587ad-aab3-484c-f814-b85ec45ba013"
      },
      "id": "-ejbaic3b00x",
      "execution_count": null,
      "outputs": [
        {
          "output_type": "stream",
          "name": "stdout",
          "text": [
            "This does not expand dong.  ['musical_instruments']\n",
            "-------------------------\n",
            "It frequently happens when a game or a movie comes out that everyone seems to love yet nobody even bothers to go see it. Sometimes they have the good sense to know when something is awful so they avoid but then on other occasions they don't support it enough even though the general attitude is how incredible it was. When Okami was coming out for the PS2, it became one of those anticipated titles thanks to its unique and utterly beautiful visual style but despite the acclaim and awards, it wasn't a success and the studio, Clover Studios, had to close down. But fans kept speculating that the unique gameplay involving the brush could work well on the Wii or DS and pretty soon a Wii-port was announced. With some enhances features, the game is just as good on any system.\n",
            "\n",
            "Story: The people of Kamiki Village used to live in fear of the 8-headed demon Orochi, who demanded a sacrifice from one of the village maidens during their festival. But the swordsman Nagi, who secretly loved the maiden chosen, had enough and decided to fight him off but couldn't damage him in anyway until Shiranui, a mystical white wolf, appeared and together, they banished Orochi away but Shiranui succumbed to his injuries. 100 years later, Orochi seems to be resurrected so the wolf, reincarnated as Amaterasu, is brought forth to restore beauty and peace to the land.\n",
            "\n",
            "Graphics: A lot of times sayings like \"work of art\" when it comes down to graphics is usually because of how shiny and sharp it is but when you say Okami is like a painting come to life, it's literally the case. Done in Japanese watercolor style, the game is filled with beautiful moments and rarely does the game ever get boring to look at. With the progressive scan on and the game running in 16:9, this is bound to be one of the more gorgeous games in your collection.\n",
            "\n",
            "Sound/Music: Another successful feature of the game was its soundtrack which seems to marry traditional Japanese instruments and melodies with more grandiose arrangements and using synthesizers and it's one of the more memorable soundtracks on the PS2 and the Wii. Unfortunately, rather than using just text or voice acting for the dialogue, they opted for a more \"Animal Crossing\"-type vibe where it's gibberish which you can't turn off and while scenes can be skipped the story goes with it so you have to suffer through that chipmunk chatter in order to get the story and listen to the music.\n",
            "\n",
            "Gameplay: It's hard not to compare Okami with the 3D installments of the Zelda series and indeed memories might flood in of playing as the wolf from Twilight Princess. But the game is so immersive that you don't even bother noticing. With puzzles to complete, sidequests, praise to get (do a good service and you can get points to level up certain attributes) and even animals to feed, there's lots to do and that's not even including the main quest. Only thing that might turn gamers off is that first initial hour or so which feels slightly sluggish but once you start beating bosses, exploring and restoring the land, it's very easy to get into.\n",
            "\n",
            "What made Okami so unique was the idea of the \"Celestial Brush\" where the screen would turn into a canvas and drawing certain shapes could bring special events. Draw a circle during nighttime and it transforms instantly to day, do the same to a dead tree and it magically comes to life. Others such as drawing a straight line either to cut enemies and things in the environment or swirls to represent wind are just some of the special techniques you can do with the brush. Thanks to the Wii-controls, it's also more accurate and quicker and not sluggish like the PS2; however it's very easy to have a drawing fail and it actually took me a couple tries to draw a line through an enemy so even if it is more accurate, it can also be a bit picky.\n",
            "\n",
            "The other slight nitpick people might have is during combat where instead of button presses, shaking the Wii-mote has you attack and it takes a bit of getting used to and timing tends to count for a lot this time. It's kind of a weird situation when the accuracy in the drawing is better in one version but the combat mechanics were better in the other. Go figure. Oh and also: slight nitpick though it's not as serious but there was a slight paper effect on the screen on the PS2 so that it really made it look like the game came to life on paper but here it's not as pronounced but the game looks incredible anyway so complaining about a paper effect seems kind of trivial.\n",
            "\n",
            "While I really doubt Okami will have the success of Brawl or Twilight Princess, this game really should be in the hands of a lot more gamers than it'll probably get. Very recommended.. A modern classic revisited ['video_games']\n",
            "-------------------------\n",
            "this is a great value. i contacted the company for measurements inside the case to see if it would fit an ibanez rg series. it fits perfectly. thank you. great case ['video_games']\n",
            "-------------------------\n",
            "Very nice controller and very flexible. This is one where you will need to read the  manual in order to take full advantage of the extra programmable buttons. The controller has nice feel and the weight is just right. The only negative for me is that the A/B/X/Y buttons do not have an over center click like the Xbox One Elite controller has.. Nice feel, Very customizable ['video_games']\n",
            "-------------------------\n",
            "Bought this to use as a controller for my pc windows  10 works great must use a xbox 1 controller do not use a 360 controller will not work. Works ['video_games']\n",
            "-------------------------\n",
            "For the money, this is a great mic!. this is a great mic! ['video_games']\n",
            "-------------------------\n",
            "If you live in the middle of nowhere and need picks, you go online for them.  I bought these without ever touching them, and I'm thrilled with the feel of them.  I have yet to buy anything from Planet Waves that isn't first rate.. What's Not to Like? ['musical_instruments']\n",
            "-------------------------\n",
            "I use this for live streaming, and it does what it should. The reason I took one star of is because I've had it squeak, but that went away after I oiled it, and the other issue I had was the part where the shock mount attaches to (the bolt or whatever you call it), it swivels side to side, even when the thumb screw are literally cranked down. It's not the best boom arm in the world but it's definitely a good one.. Good mic boom arm. ['video_games']\n",
            "-------------------------\n",
            "This microphone boom stand is great for home use. The only thing to watch is the weight of the actual microphone you attach and the length to which you extend the boom.. Good product at a good price. ['video_games']\n",
            "-------------------------\n",
            "Dark Kingdom ok if you like hack an slash gauntlet type games.\n",
            "after awhile it become BORING unlike Gauntlet excitement.. Dark Kingdom ok if you like hack an slash gauntlet type games ['video_games']\n",
            "-------------------------\n"
          ]
        }
      ]
    },
    {
      "cell_type": "markdown",
      "source": [
        "# Training Review Rating prediction\n"
      ],
      "metadata": {
        "id": "RsQGF553iAuU"
      },
      "id": "RsQGF553iAuU"
    },
    {
      "cell_type": "code",
      "source": [
        "from sklearn.ensemble import RandomForestRegressor\n",
        "rev_Train_X, rev_Val_X, rev_Train_Y,rev_Val_Y = model_selection.train_test_split(review_X_train_vec,review_Y_train_vec,test_size=0.2)\n",
        "rfr = RandomForestRegressor(n_estimators=10)\n",
        "rfr.fit(rev_Train_X,rev_Train_Y)"
      ],
      "metadata": {
        "id": "3hRAhTfkn4zQ",
        "colab": {
          "base_uri": "https://localhost:8080/"
        },
        "outputId": "a404b791-3cb4-426d-e648-35bd2c9b47cf"
      },
      "id": "3hRAhTfkn4zQ",
      "execution_count": null,
      "outputs": [
        {
          "output_type": "execute_result",
          "data": {
            "text/plain": [
              "RandomForestRegressor(n_estimators=10)"
            ]
          },
          "metadata": {},
          "execution_count": 97
        }
      ]
    },
    {
      "cell_type": "markdown",
      "source": [
        "# Testing Review Rating prediction\n"
      ],
      "metadata": {
        "id": "rF8z6F7wiE5h"
      },
      "id": "rF8z6F7wiE5h"
    },
    {
      "cell_type": "code",
      "source": [
        "y_hat = rfr.predict(rev_Val_X)\n",
        "y_hat  = np.array([round(y) for y in y_hat])\n",
        "\n",
        "\n",
        "y_actu = pd.Series(rev_Val_Y,name='Actual')\n",
        "acc = accuracy_score(rev_Val_Y,y_hat,normalize=True)\n",
        "print(\"Model accuray : %.2f\"%acc)"
      ],
      "metadata": {
        "colab": {
          "base_uri": "https://localhost:8080/"
        },
        "id": "iuXKQ97rUgLI",
        "outputId": "8598b097-a1d7-4083-aa77-5407e76b2013"
      },
      "id": "iuXKQ97rUgLI",
      "execution_count": null,
      "outputs": [
        {
          "output_type": "stream",
          "name": "stdout",
          "text": [
            "Model accuray : 0.57\n"
          ]
        }
      ]
    },
    {
      "cell_type": "code",
      "source": [
        "r_texts_example_vec = Tfidf_vect.transform(np.random.choice(p_texts_example,10,replace=False))\n",
        "y_hat = rfr.predict(r_texts_example_vec)\n",
        "\n",
        "for x,y in zip(r_texts_example,y_hat):\n",
        "  print(x,r_le.inverse_transform([round(y)]))\n",
        "  print(\"-------------------------\")"
      ],
      "metadata": {
        "colab": {
          "base_uri": "https://localhost:8080/"
        },
        "id": "ntojMehNh52V",
        "outputId": "b28cc5f7-9d67-4b98-8774-e178324b167d"
      },
      "id": "ntojMehNh52V",
      "execution_count": null,
      "outputs": [
        {
          "output_type": "stream",
          "name": "stdout",
          "text": [
            "terrific.  [5.]\n",
            "-------------------------\n",
            "Very versatile. Now I can bring twelve pedals anywhere. So convenient. Looks like eyecandy too especially when colorful pedals are setup on it. I use the right combination of Boss pedals and play guitars with high quality humbucking pickups like EMG, Seymour Duncan, and DiMarzio. The noise is very minimal when pausing during a performance. Just avoid turning the compressor pedal's level and sustain to the maximum. Same with the distortion's level, gain or distortion level knob. With the right order of the pedals, the right settings, and the right pickups, and also the right placement of the pedalboard away from other electronic equipment that could generate noise, are some of the good ways to get a great sound from a big chain of pedals. A noise suppressor pedal may even be not necessary in the chain but for sure it would clean up all those remaining hiss or hum if included. The pedalboard's power supply works very well with all twelve pedals too. DC voltage seems to be distributed evenly. I recommend this to any guitar player looking for an affordable and simple way to setup a bigger pedal chain. Great product from Behringer!. Great pedalboard, low priced, works like the Boss BCB60 but holds twice the number of pedals. Way better! [1.]\n",
            "-------------------------\n",
            "I have played every Lego so far and this game ranks up near the top for me and my wife. The two harry Potter games are at the top but this one is fighting with the first batman and Indiana Jones for the third spot. Let's start by saying that I haven't seen the Lego movie but the story was great and there are a lot memorable characters in the game. The cut scenes and the locations the game is set in is a lot of fun and variety is top notch. This lego game is not a long as the last few that have been released but that's not a totally bad thing. It is easy to play with friends and it is not as frustrating as say Batman 2 or Marvels. The playing is easy and is not too overwhelming.\n",
            "\n",
            "The game is gorgeous and the sound is done well. After playing the game I think we will watch the movie at some point. The game I would say is accessible to players of all ages and ability levels. Getting 100% and all the achievements wasn't too time consuming and I think we completed the game in about 20-30 hours.\n",
            "\n",
            "We really enjoyed this Lego game and it is one of the better ones. You will not regret buying this game and you can thank me later.\n",
            "\n",
            "Thank you for reading.. One of the best lego games to date [2.]\n",
            "-------------------------\n",
            "I purchased both versions from one seller. The same case. I did not find these cheap where it binds together, pretty general for a plastic game case. If you're having trouble opening the case, you may have the game in upside down. Make sure the open end, where the circuit board on the cartridge is exposed, is pointed down towards where you open the case.. Great GBA case [5.]\n",
            "-------------------------\n",
            "Fun and challenging new content for Oblivion. I highly recommend it :). Praise the nine! [3.]\n",
            "-------------------------\n",
            "Tighten the screw that adjusts the height very well or it will sleep.  Other than that these are fine stands.. Work well for my guitars. [5.]\n",
            "-------------------------\n",
            "I have never since Spyro seen a trilogy with games that got better with each new addition. Sly 3 is awesome on so many levels.\n",
            "\n",
            " First off SuckerPunch really stepped up the difficulty with this one. The levels get continuosly harder and harder. Later missions are extremely hard and might require patience and strategy to complete. The missions can also be completed in more than one way.\n",
            "\n",
            " They also allow players to do missions they've done before whenever they want which the 2nd Sly never allowed unless you started a new game. This one also has lots of replayability. There are way more unlockables in this one that can be required or just an added bonus. Unlike Sly 2 and 1 there are no secret bottle (think goodness) so all unlockables can be bought with money. Complete missions also unlock concept art.\n",
            "\n",
            "The levels are way bigger and more freeroaming than the previous games. Theres tons to see and places to go. The only linear level is the last and even it is huge!\n",
            "\n",
            " Pickpocketing is also easier and just as addicting as ever. Instead of selling stuff on Bently's laptop for money the objects you pickpocket are automatically converted into money, so Bently's laptop is only for buying objects. An added plus is that Sly isn't the only one who can pickpocket. Both Bently and Murray can do it now. Sly is still the best one for pickpocketing because of his stealth, Murray is good for pickpocketing because you can gain extra cash in fights, but Bently...I don't really recommend Bently because hes slow at it and sometimes you find yourself spotted by an enemy before you can get the goods.\n",
            "\n",
            " It doesn't stop there. There are bonus missions earned after completing certain missions. These missions unlock movies. Theres also a super secret movie (I haven't unlocked yet) earned when the game is completed 100%.\n",
            "\n",
            " On top of all this the game can be played in 3D which doesn't actually work too well. Its better playing without it. Theres also two player games that can be like Dog fights (airplane fights) and seeing who can take the other out as Carmalita and Sly.\n",
            "\n",
            " Sly 3 is the fabulous end to a awesome trilogy. This is definately one of my favorite all time games along with Okami and the first 3 Spyro games. Any fan of this series should own this. Anyone who never played Sly Cooper should try this series starting from the 1st and up to see how this series grows and how much fun it is. Its worth it.. Best of the series! [5.]\n",
            "-------------------------\n",
            "Noisey.  [4.]\n",
            "-------------------------\n",
            "I just received my Hohner Rocket harmonica yesterday in the mail.  It is quickly becoming my favorite harmonica to take with me whenever I travel.  The harmonica in its zippered case easily fits into my pocket.  That's why I call it my Pocket Rocket.\n",
            "\n",
            "If you want a great harmonica to go with you and sound great, this is the best way to have both.. My Pocket Rocket [5.]\n",
            "-------------------------\n",
            "best octaver ever.  [4.]\n",
            "-------------------------\n"
          ]
        }
      ]
    },
    {
      "cell_type": "markdown",
      "source": [
        "# Preprocessig for LSTM Model\n",
        "\n",
        "- Tokenize sentences to words\n",
        "- Convert text to numercial values\n",
        "- Pad sequences for consistent input to model\n",
        "\n"
      ],
      "metadata": {
        "id": "nmF3nVqWWWTW"
      },
      "id": "nmF3nVqWWWTW"
    },
    {
      "cell_type": "code",
      "source": [
        "\n",
        "voc_size = 5000\n",
        "max_len = 128\n",
        "tok = Tokenizer(num_words=voc_size)\n",
        "tok.fit_on_texts(review_X_train_processed)\n",
        "sequences = tok.texts_to_sequences(product_X_train_processed)\n",
        "prod_sequences_matrix = sequence.pad_sequences(sequences,maxlen=max_len)\n",
        "sequences = tok.texts_to_sequences(review_X_train_processed)\n",
        "rev_sequences_matrix = sequence.pad_sequences(sequences,maxlen=max_len)"
      ],
      "metadata": {
        "id": "lXiQnzL8VUx5"
      },
      "id": "lXiQnzL8VUx5",
      "execution_count": null,
      "outputs": []
    },
    {
      "cell_type": "code",
      "source": [
        "seq_lens = pd.DataFrame([len(s) for s in sequences])\n",
        "seq_lens.plot(kind='box').set(title=\"Visualizing distribution of length of sentences\")"
      ],
      "metadata": {
        "id": "z551TKzUip3F"
      },
      "id": "z551TKzUip3F",
      "execution_count": null,
      "outputs": []
    },
    {
      "cell_type": "markdown",
      "source": [
        "# One hot encode labels"
      ],
      "metadata": {
        "id": "0vuiMD5wW1UJ"
      },
      "id": "0vuiMD5wW1UJ"
    },
    {
      "cell_type": "code",
      "source": [
        "p_le = LabelEncoder()\n",
        "p_encoded_labels = p_le.fit_transform(p_labels_train)\n",
        "p_labels_vec = to_categorical(p_encoded_labels)\n",
        "r_le = LabelEncoder()\n",
        "r_encoded_labels = r_le.fit_transform(r_labels_train)\n",
        "r_labels_vec = to_categorical(r_encoded_labels)"
      ],
      "metadata": {
        "id": "vhp9wu07VU6B"
      },
      "id": "vhp9wu07VU6B",
      "execution_count": null,
      "outputs": []
    },
    {
      "cell_type": "markdown",
      "source": [
        "# Creating LSTM model"
      ],
      "metadata": {
        "id": "sB--QDiIW7oA"
      },
      "id": "sB--QDiIW7oA"
    },
    {
      "cell_type": "code",
      "source": [
        "\n",
        "def model(input_shape,n_classes,loss='binary_crossentropy'):\n",
        "\n",
        "\n",
        "  model=tf.keras.Sequential()\n",
        "\n",
        "  model.add(tf.keras.layers.Embedding(voc_size,45,input_length=128))\n",
        "\n",
        "  model.add(tf.compat.v1.keras.layers.CuDNNLSTM(128,input_shape=(input_shape),return_sequences=True))\n",
        "\n",
        "  model.add(tf.keras.layers.Dropout(0.2))\n",
        "\n",
        "  model.add(tf.compat.v1.keras.layers.CuDNNLSTM(128))\n",
        "\n",
        "  model.add(tf.keras.layers.Dropout(0.2))\n",
        "\n",
        "  model.add(tf.keras.layers.Dense(32,activation='sigmoid'))\n",
        "\n",
        "  model.add(tf.keras.layers.Dropout(0.2))\n",
        "\n",
        "  model.add(tf.keras.layers.Dense(n_classes,activation='softmax'))\n",
        "\n",
        "  model.compile(loss=loss,optimizer='adam',metrics=['accuracy'])\n",
        "\n",
        "  return model"
      ],
      "metadata": {
        "id": "8d4d6y46VVA9"
      },
      "id": "8d4d6y46VVA9",
      "execution_count": null,
      "outputs": []
    },
    {
      "cell_type": "code",
      "source": [
        "prod_model = model(prod_sequences_matrix.shape,p_labels_vec.shape[1])\n",
        "prod_model.summary()"
      ],
      "metadata": {
        "id": "IcvSSW_zVVIz"
      },
      "id": "IcvSSW_zVVIz",
      "execution_count": null,
      "outputs": []
    },
    {
      "cell_type": "code",
      "source": [
        "prod_model = model(prod_sequences_matrix.shape,p_labels_vec.shape[1])\n",
        "prod_model.summary()"
      ],
      "metadata": {
        "colab": {
          "base_uri": "https://localhost:8080/"
        },
        "id": "GT4MXILB1l84",
        "outputId": "e9a26759-339c-4ec4-d22f-e7057b8f5f90"
      },
      "execution_count": null,
      "outputs": [
        {
          "output_type": "stream",
          "name": "stdout",
          "text": [
            "Model: \"sequential_7\"\n",
            "_________________________________________________________________\n",
            " Layer (type)                Output Shape              Param #   \n",
            "=================================================================\n",
            " embedding_7 (Embedding)     (None, 128, 45)           225000    \n",
            "                                                                 \n",
            " cu_dnnlstm_7 (CuDNNLSTM)    (None, 128, 128)          89600     \n",
            "                                                                 \n",
            " dropout_9 (Dropout)         (None, 128, 128)          0         \n",
            "                                                                 \n",
            " cu_dnnlstm_8 (CuDNNLSTM)    (None, 128)               132096    \n",
            "                                                                 \n",
            " dropout_10 (Dropout)        (None, 128)               0         \n",
            "                                                                 \n",
            " dense_6 (Dense)             (None, 32)                4128      \n",
            "                                                                 \n",
            " dropout_11 (Dropout)        (None, 32)                0         \n",
            "                                                                 \n",
            " dense_7 (Dense)             (None, 2)                 66        \n",
            "                                                                 \n",
            "=================================================================\n",
            "Total params: 450,890\n",
            "Trainable params: 450,890\n",
            "Non-trainable params: 0\n",
            "_________________________________________________________________\n"
          ]
        }
      ],
      "id": "GT4MXILB1l84"
    },
    {
      "cell_type": "code",
      "source": [
        "p_labels_vec.shape"
      ],
      "metadata": {
        "colab": {
          "base_uri": "https://localhost:8080/"
        },
        "id": "5qlavUYH2IDB",
        "outputId": "64420827-5ae2-4fda-85da-4225e7172c0f"
      },
      "execution_count": null,
      "outputs": [
        {
          "output_type": "execute_result",
          "data": {
            "text/plain": [
              "(31998, 2)"
            ]
          },
          "metadata": {},
          "execution_count": 28
        }
      ],
      "id": "5qlavUYH2IDB"
    },
    {
      "cell_type": "code",
      "source": [
        "r_labels_vec.shape"
      ],
      "metadata": {
        "colab": {
          "base_uri": "https://localhost:8080/"
        },
        "id": "enuysPd_8Keu",
        "outputId": "80b13264-1c9f-4877-db31-86daf10e9314"
      },
      "execution_count": null,
      "outputs": [
        {
          "output_type": "execute_result",
          "data": {
            "text/plain": [
              "(31997, 5)"
            ]
          },
          "metadata": {},
          "execution_count": 29
        }
      ],
      "id": "enuysPd_8Keu"
    },
    {
      "cell_type": "code",
      "source": [
        "rev_model = model(rev_sequences_matrix.shape,r_labels_vec.shape[1],loss='categorical_crossentropy')\n",
        "rev_model.summary()"
      ],
      "metadata": {
        "colab": {
          "base_uri": "https://localhost:8080/"
        },
        "id": "hcUDnzO58Cz2",
        "outputId": "2a189a7e-3fa2-4d66-9ba2-cf33d439ff7e"
      },
      "execution_count": null,
      "outputs": [
        {
          "output_type": "stream",
          "name": "stdout",
          "text": [
            "Model: \"sequential_9\"\n",
            "_________________________________________________________________\n",
            " Layer (type)                Output Shape              Param #   \n",
            "=================================================================\n",
            " embedding_9 (Embedding)     (None, 128, 45)           225000    \n",
            "                                                                 \n",
            " cu_dnnlstm_11 (CuDNNLSTM)   (None, 128, 128)          89600     \n",
            "                                                                 \n",
            " dropout_15 (Dropout)        (None, 128, 128)          0         \n",
            "                                                                 \n",
            " cu_dnnlstm_12 (CuDNNLSTM)   (None, 128)               132096    \n",
            "                                                                 \n",
            " dropout_16 (Dropout)        (None, 128)               0         \n",
            "                                                                 \n",
            " dense_10 (Dense)            (None, 32)                4128      \n",
            "                                                                 \n",
            " dropout_17 (Dropout)        (None, 32)                0         \n",
            "                                                                 \n",
            " dense_11 (Dense)            (None, 5)                 165       \n",
            "                                                                 \n",
            "=================================================================\n",
            "Total params: 450,989\n",
            "Trainable params: 450,989\n",
            "Non-trainable params: 0\n",
            "_________________________________________________________________\n"
          ]
        }
      ],
      "id": "hcUDnzO58Cz2"
    },
    {
      "cell_type": "code",
      "source": [
        "from sklearn.model_selection import train_test_split\n",
        "p_X_train, p_X_test, p_y_train, p_y_test = train_test_split(prod_sequences_matrix, p_labels_vec, test_size=0.1, random_state=42,stratify=p_labels_vec)\n",
        "r_X_train, r_X_test, r_y_train, r_y_test = train_test_split(rev_sequences_matrix, r_labels_vec, test_size=0.1, random_state=42,stratify=r_labels_vec)"
      ],
      "metadata": {
        "id": "Hxn8ihVn1t-r"
      },
      "execution_count": null,
      "outputs": [],
      "id": "Hxn8ihVn1t-r"
    },
    {
      "cell_type": "code",
      "source": [
        "prod_model.fit(p_X_train,p_y_train,validation_data=(p_X_test,p_y_test),epochs=10,batch_size=128)"
      ],
      "metadata": {
        "colab": {
          "base_uri": "https://localhost:8080/"
        },
        "id": "4PnyCzcu190I",
        "outputId": "786c74bd-7498-4d01-81c0-53a9a0e67fbf"
      },
      "execution_count": null,
      "outputs": [
        {
          "output_type": "stream",
          "name": "stdout",
          "text": [
            "Epoch 1/10\n",
            "225/225 [==============================] - 45s 69ms/step - loss: 0.5554 - accuracy: 0.7232 - val_loss: 0.2684 - val_accuracy: 0.8900\n",
            "Epoch 2/10\n",
            "225/225 [==============================] - 15s 65ms/step - loss: 0.2244 - accuracy: 0.9137 - val_loss: 0.1746 - val_accuracy: 0.9272\n",
            "Epoch 3/10\n",
            "225/225 [==============================] - 15s 65ms/step - loss: 0.1509 - accuracy: 0.9399 - val_loss: 0.1478 - val_accuracy: 0.9378\n",
            "Epoch 4/10\n",
            "225/225 [==============================] - 15s 64ms/step - loss: 0.1275 - accuracy: 0.9472 - val_loss: 0.1409 - val_accuracy: 0.9428\n",
            "Epoch 5/10\n",
            "225/225 [==============================] - 14s 64ms/step - loss: 0.1289 - accuracy: 0.9494 - val_loss: 0.1533 - val_accuracy: 0.9381\n",
            "Epoch 6/10\n",
            "225/225 [==============================] - 15s 65ms/step - loss: 0.1052 - accuracy: 0.9554 - val_loss: 0.1493 - val_accuracy: 0.9397\n",
            "Epoch 7/10\n",
            "225/225 [==============================] - 15s 65ms/step - loss: 0.0988 - accuracy: 0.9575 - val_loss: 0.1567 - val_accuracy: 0.9378\n",
            "Epoch 8/10\n",
            "225/225 [==============================] - 15s 65ms/step - loss: 0.0936 - accuracy: 0.9594 - val_loss: 0.1552 - val_accuracy: 0.9431\n",
            "Epoch 9/10\n",
            "225/225 [==============================] - 15s 65ms/step - loss: 0.0913 - accuracy: 0.9604 - val_loss: 0.1637 - val_accuracy: 0.9356\n",
            "Epoch 10/10\n",
            "225/225 [==============================] - 14s 64ms/step - loss: 0.0869 - accuracy: 0.9618 - val_loss: 0.1806 - val_accuracy: 0.9334\n"
          ]
        },
        {
          "output_type": "execute_result",
          "data": {
            "text/plain": [
              "<keras.callbacks.History at 0x7fda06cd5450>"
            ]
          },
          "metadata": {},
          "execution_count": 38
        }
      ],
      "id": "4PnyCzcu190I"
    },
    {
      "cell_type": "code",
      "source": [
        "rev_model.fit(r_X_train,r_y_train,validation_data=(r_X_test,r_y_test),epochs=20,batch_size=128)"
      ],
      "metadata": {
        "colab": {
          "base_uri": "https://localhost:8080/"
        },
        "id": "YRjpV7uv2YRg",
        "outputId": "5584e19e-6df7-4854-cc56-9605032da0b2"
      },
      "execution_count": null,
      "outputs": [
        {
          "output_type": "stream",
          "name": "stdout",
          "text": [
            "Epoch 1/20\n",
            "225/225 [==============================] - 18s 68ms/step - loss: 1.0722 - accuracy: 0.6050 - val_loss: 0.9467 - val_accuracy: 0.6294\n",
            "Epoch 2/20\n",
            "225/225 [==============================] - 15s 65ms/step - loss: 0.9096 - accuracy: 0.6437 - val_loss: 0.9209 - val_accuracy: 0.6400\n",
            "Epoch 3/20\n",
            "225/225 [==============================] - 14s 64ms/step - loss: 0.8667 - accuracy: 0.6555 - val_loss: 0.9057 - val_accuracy: 0.6450\n",
            "Epoch 4/20\n",
            "225/225 [==============================] - 14s 64ms/step - loss: 0.8292 - accuracy: 0.6733 - val_loss: 0.8878 - val_accuracy: 0.6619\n",
            "Epoch 5/20\n",
            "225/225 [==============================] - 15s 66ms/step - loss: 0.7743 - accuracy: 0.6972 - val_loss: 0.8917 - val_accuracy: 0.6609\n",
            "Epoch 6/20\n",
            "225/225 [==============================] - 14s 64ms/step - loss: 0.7347 - accuracy: 0.7171 - val_loss: 0.8975 - val_accuracy: 0.6684\n",
            "Epoch 7/20\n",
            "225/225 [==============================] - 15s 66ms/step - loss: 0.6934 - accuracy: 0.7357 - val_loss: 0.9340 - val_accuracy: 0.6541\n",
            "Epoch 8/20\n",
            "225/225 [==============================] - 15s 65ms/step - loss: 0.6635 - accuracy: 0.7488 - val_loss: 0.9170 - val_accuracy: 0.6659\n",
            "Epoch 9/20\n",
            "225/225 [==============================] - 15s 66ms/step - loss: 0.6351 - accuracy: 0.7644 - val_loss: 0.9713 - val_accuracy: 0.6625\n",
            "Epoch 10/20\n",
            "225/225 [==============================] - 15s 65ms/step - loss: 0.6084 - accuracy: 0.7765 - val_loss: 0.9800 - val_accuracy: 0.6587\n",
            "Epoch 11/20\n",
            "225/225 [==============================] - 15s 65ms/step - loss: 0.5844 - accuracy: 0.7886 - val_loss: 1.0230 - val_accuracy: 0.6650\n",
            "Epoch 12/20\n",
            "225/225 [==============================] - 15s 65ms/step - loss: 0.5674 - accuracy: 0.7976 - val_loss: 1.0295 - val_accuracy: 0.6456\n",
            "Epoch 13/20\n",
            "225/225 [==============================] - 15s 65ms/step - loss: 0.5621 - accuracy: 0.8027 - val_loss: 1.0441 - val_accuracy: 0.6566\n",
            "Epoch 14/20\n",
            "225/225 [==============================] - 15s 65ms/step - loss: 0.5369 - accuracy: 0.8141 - val_loss: 1.0760 - val_accuracy: 0.6519\n",
            "Epoch 15/20\n",
            "225/225 [==============================] - 14s 64ms/step - loss: 0.5172 - accuracy: 0.8214 - val_loss: 1.0841 - val_accuracy: 0.6509\n",
            "Epoch 16/20\n",
            "225/225 [==============================] - 15s 65ms/step - loss: 0.5057 - accuracy: 0.8285 - val_loss: 1.1234 - val_accuracy: 0.6388\n",
            "Epoch 17/20\n",
            "225/225 [==============================] - 14s 64ms/step - loss: 0.4832 - accuracy: 0.8406 - val_loss: 1.1380 - val_accuracy: 0.6366\n",
            "Epoch 18/20\n",
            "225/225 [==============================] - 15s 65ms/step - loss: 0.4660 - accuracy: 0.8478 - val_loss: 1.1594 - val_accuracy: 0.6447\n",
            "Epoch 19/20\n",
            "225/225 [==============================] - 15s 64ms/step - loss: 0.4490 - accuracy: 0.8537 - val_loss: 1.1925 - val_accuracy: 0.6488\n",
            "Epoch 20/20\n",
            "225/225 [==============================] - 15s 65ms/step - loss: 0.4333 - accuracy: 0.8598 - val_loss: 1.1923 - val_accuracy: 0.6541\n"
          ]
        },
        {
          "output_type": "execute_result",
          "data": {
            "text/plain": [
              "<keras.callbacks.History at 0x7fda03a4b5d0>"
            ]
          },
          "metadata": {},
          "execution_count": 46
        }
      ],
      "id": "YRjpV7uv2YRg"
    },
    {
      "cell_type": "code",
      "source": [
        "product_example_data = product_data[~product_data['product_category'].isna()]\n",
        "prod_examples =  product_example_data['text'].sample(10,random_state=45).to_numpy()\n",
        "prod_examples_processed = preprocess_text(prod_examples)\n",
        "prod_examples_seq = tok.texts_to_sequences(prod_examples_processed)\n",
        "prod_examples_seq = sequence.pad_sequences(prod_examples_seq,maxlen=max_len)"
      ],
      "metadata": {
        "colab": {
          "base_uri": "https://localhost:8080/"
        },
        "id": "J19v0CnyGwYq",
        "outputId": "4cdd027c-7ec8-4840-b7ca-97ff8821a1fa"
      },
      "execution_count": null,
      "outputs": [
        {
          "output_type": "stream",
          "name": "stderr",
          "text": [
            "Processing text: 10it [00:00, 10.53it/s]\n"
          ]
        }
      ],
      "id": "J19v0CnyGwYq"
    },
    {
      "cell_type": "code",
      "source": [
        "y_hat = prod_model.predict(prod_examples_seq)\n",
        "for x,y in zip(prod_examples,y_hat):\n",
        "  print(x,p_le.inverse_transform([np.argmax(y)]))\n",
        "  print(\"-------------------------\")"
      ],
      "metadata": {
        "colab": {
          "base_uri": "https://localhost:8080/"
        },
        "id": "EH5iboTNH7Cr",
        "outputId": "15db27b0-8b86-4667-b2d2-bdcfa1c07569"
      },
      "execution_count": null,
      "outputs": [
        {
          "output_type": "stream",
          "name": "stdout",
          "text": [
            "This controller the bittons had to be mashed so hard it hurt.... which isn't possible when playing something like the mario games. Didnt work ['video_games']\n",
            "-------------------------\n",
            "Quick Shipment, Excellent Product. Thank You ['musical_instruments']\n",
            "-------------------------\n",
            "Great story, great gameplay and tones of replay ability. it took me about two weeks to pass the hole campaign along with all the side quests. longest story driven game i have played.. lots of replay ability ['video_games']\n",
            "-------------------------\n",
            "they work pretty good so far. i have had no training on drums what so ever..im a guitar player  or keys.on ps3...the drums are the hardest to get use to because my left hand is not use to being used in this manor...but it works.they do what they are suppose to. im still working on learning to play..great set A+. drums ['musical_instruments']\n",
            "-------------------------\n",
            "Nice headsets and good audio quality, excellent and sturdy build and very comfortable.\n",
            "The mic in a little bit tricky but have an average volume and is bendable.\n",
            "\n",
            "Thanks.. Excellent headsets for a good price. ['video_games']\n",
            "-------------------------\n",
            "Hail The Gathered!  I bow to your superior intellect and wisdow!  In the future this expansion pack will be an object of worship!  Hail! Hail!. At last - Genius! ['video_games']\n",
            "-------------------------\n",
            "I loved the original manhunt, I have to admit it, I loved it.  I though it was a sick and delightfully twisted game...no...art!  It was spooky, gruesome, smart, intense, and totally enjoyable for someone like me.  This one, like most sequels....sucks.  It looks like the first, it plays like the first, it's in the same vein as the first, but it's the details where it falls apart, and I mean bad!\n",
            "\n",
            "In the original, the levels were layed out where you were mostly stealth killing or getting into cover-based shootouts and sometimes a blend of the two, and the levels and AI were set up for that type of experience.  This game has no clue what it wants to be!  I tried to do mostly stealth kills, but sorry to say, you wind up just shooting most of em'.  Speaking of AI though, the AI in this one is really bad!!!  In the first one a hunter would inspect a brick, hitting a wall, or finding his dead buddy, but in Manhunt 2, they usually don't care, spoiling any opportunity to lure a hunter away from his friends to disfigure and break him.  Thus, you will find it wayyy easier and much less frustrating to just snipe a guy from the shadows, turning a once great stealth platform into...a really lame shooter.\n",
            "\n",
            "Another real problem, is the story.  In place of a meager, bare bones type of plot, (Kill for sick director's pleasure and survival, then revenge) with a simple plot that has been made far too rushed and scattered.  Gone is the simple and enjoyable kill from point A to point B plot, now, it's all twisted with \"gotta find this guy, gotta find this chick, gotta figure this out....who am I, what happened\"  This doesn't directly affect the action, but somehow it makes for a very rushed and detached experience, hardly any of it worth remembering.  Essentially they made a mountain out of a mole-hill, and it really just annoys more than anything.  I had a hard time of following why I was at a place and found it much simpler in the original to just know I was on my way through to fight another type of gang for the director's joy, but now it's all finding out about a character I care nothing for in a story I care nothing for.  Coupled with useless flashbacks and twists in the plot, I don't care enough to remember any of this game.\n",
            "\n",
            "Even when the director in Manhunt bacame impatient, you were scolded by the talented Brian Cox, now an annoying nobody screeches at you which really disrupts the type of flow the first had.  No velvety voice of a known and great actor, now your just getting bitched by some guy that kinda sounds like a cross between a bitchy girlfriend and Ray Liotta, but not nearly as cool as Ray Liotta, and almost as irritating as your ex-girlfriend.\n",
            "\n",
            "Thinking about it, I doubt even if the stealth kill weren't blurred, this still wouldn't be anything nearly as fun as the first.  When a you execute a hunter, at the point where you strike or shoot or stab or slash a guy, a fast and artsy blur jolts everything and the shade of everything goes negative for a bit.  About 60% of the kill is plainly visible, but 40% is blurred.  These kills are actually pretty good, and I especially like the firearm executions, but coupled with the filters and obstructions they had to program in, it really doesn't matter.  Some of the environment kills are entertaining, but hardly worth the addition if they were at the cost of everything else I disliked.\n",
            "\n",
            "In short people, everything in this game reminded me of Manhunt, it reminded me of how it's NOT...manhunt and certainly of how it's not as good as Manhunt.  I will now sell this game, and fire up the original for the experience that this game failed miserably to acheive, and no doubt I will crack a sinister smile and bathe in the joy of hearing Brian Cox direct me to massacre a bunch of scumbags.. Just replay the first one and save your money ['video_games']\n",
            "-------------------------\n",
            "Love the variety in color and sizes..  ['musical_instruments']\n",
            "-------------------------\n",
            "I want to love this mouse. I've had 2 of the prior Razer Naga MMO mice. The first version was my favorite. This one is much like the later editions in terms of shape, but I like how it's heavier. It feels solid. Presumably due to the battery inside. It has a slightly different shape than the 2014 version I replaced which feels a tad better.\n",
            "\n",
            "Problem is, that this wireless mouse is just as unreliable as you'd expect from a wireless mouse. It's HORRIBLE. Loses connection constantly. Also, the battery dies before I'm done for the night. You can plug it directly in, but for some reason that switches drivers requiring a restart or else you'll have even worse performance than when you're wireless.\n",
            "\n",
            "So, I thought I'd just leave it plugged in all the time. However, I still get tons of bugginess. Right now, I'm getting constant glitching even though I'm wired directly in.\n",
            "\n",
            "In short. This is definitively the WORST mouse I've ever used. I'm replacing it with my 2014 broken Razer Naga awaiting for the wired versions to get back in stock (I assume there is a new refresh right now).. Doesn't do it's primary function, which is to be a reliable mouse while gaming. ['video_games']\n",
            "-------------------------\n",
            "exactly what i ordered. There was no surprises. easy to string.  husband plays and absolutely loves the new set of strings. martin mandolin strings ['musical_instruments']\n",
            "-------------------------\n"
          ]
        }
      ],
      "id": "EH5iboTNH7Cr"
    },
    {
      "cell_type": "code",
      "source": [
        "review_example_data = review_data[review_data['review_score']==-1.]\n",
        "review_examples = review_example_data['text'].sample(10,random_state=45).to_numpy()\n",
        "# preproces\n",
        "review_examples_processed = preprocess_text(review_examples)\n",
        "# vectorize\n",
        "review_examples_seq = tok.texts_to_sequences(review_examples_processed)\n",
        "review_examples_seq = sequence.pad_sequences(review_examples_seq,maxlen=max_len)\n"
      ],
      "metadata": {
        "colab": {
          "base_uri": "https://localhost:8080/"
        },
        "id": "HQ9w7CBjIBMx",
        "outputId": "ef655bb8-5fbc-4acb-d688-9aecd2e528b5"
      },
      "execution_count": null,
      "outputs": [
        {
          "output_type": "stream",
          "name": "stderr",
          "text": [
            "Processing text: 10it [00:00, 10.53it/s]\n"
          ]
        }
      ],
      "id": "HQ9w7CBjIBMx"
    },
    {
      "cell_type": "code",
      "source": [
        "y_hat = rev_model.predict(review_examples_seq)\n",
        "for x,y in zip(prod_examples,y_hat):\n",
        "  print(x,r_le.inverse_transform([np.argmax(y)]))\n",
        "  print(\"-------------------------\")"
      ],
      "metadata": {
        "colab": {
          "base_uri": "https://localhost:8080/"
        },
        "id": "6pot4TA28hGl",
        "outputId": "86b12551-7ce7-47c3-f190-15725a94c607"
      },
      "execution_count": null,
      "outputs": [
        {
          "output_type": "stream",
          "name": "stdout",
          "text": [
            "This controller the bittons had to be mashed so hard it hurt.... which isn't possible when playing something like the mario games. Didnt work [5.]\n",
            "-------------------------\n",
            "Quick Shipment, Excellent Product. Thank You [5.]\n",
            "-------------------------\n",
            "Great story, great gameplay and tones of replay ability. it took me about two weeks to pass the hole campaign along with all the side quests. longest story driven game i have played.. lots of replay ability [5.]\n",
            "-------------------------\n",
            "they work pretty good so far. i have had no training on drums what so ever..im a guitar player  or keys.on ps3...the drums are the hardest to get use to because my left hand is not use to being used in this manor...but it works.they do what they are suppose to. im still working on learning to play..great set A+. drums [5.]\n",
            "-------------------------\n",
            "Nice headsets and good audio quality, excellent and sturdy build and very comfortable.\n",
            "The mic in a little bit tricky but have an average volume and is bendable.\n",
            "\n",
            "Thanks.. Excellent headsets for a good price. [5.]\n",
            "-------------------------\n",
            "Hail The Gathered!  I bow to your superior intellect and wisdow!  In the future this expansion pack will be an object of worship!  Hail! Hail!. At last - Genius! [5.]\n",
            "-------------------------\n",
            "I loved the original manhunt, I have to admit it, I loved it.  I though it was a sick and delightfully twisted game...no...art!  It was spooky, gruesome, smart, intense, and totally enjoyable for someone like me.  This one, like most sequels....sucks.  It looks like the first, it plays like the first, it's in the same vein as the first, but it's the details where it falls apart, and I mean bad!\n",
            "\n",
            "In the original, the levels were layed out where you were mostly stealth killing or getting into cover-based shootouts and sometimes a blend of the two, and the levels and AI were set up for that type of experience.  This game has no clue what it wants to be!  I tried to do mostly stealth kills, but sorry to say, you wind up just shooting most of em'.  Speaking of AI though, the AI in this one is really bad!!!  In the first one a hunter would inspect a brick, hitting a wall, or finding his dead buddy, but in Manhunt 2, they usually don't care, spoiling any opportunity to lure a hunter away from his friends to disfigure and break him.  Thus, you will find it wayyy easier and much less frustrating to just snipe a guy from the shadows, turning a once great stealth platform into...a really lame shooter.\n",
            "\n",
            "Another real problem, is the story.  In place of a meager, bare bones type of plot, (Kill for sick director's pleasure and survival, then revenge) with a simple plot that has been made far too rushed and scattered.  Gone is the simple and enjoyable kill from point A to point B plot, now, it's all twisted with \"gotta find this guy, gotta find this chick, gotta figure this out....who am I, what happened\"  This doesn't directly affect the action, but somehow it makes for a very rushed and detached experience, hardly any of it worth remembering.  Essentially they made a mountain out of a mole-hill, and it really just annoys more than anything.  I had a hard time of following why I was at a place and found it much simpler in the original to just know I was on my way through to fight another type of gang for the director's joy, but now it's all finding out about a character I care nothing for in a story I care nothing for.  Coupled with useless flashbacks and twists in the plot, I don't care enough to remember any of this game.\n",
            "\n",
            "Even when the director in Manhunt bacame impatient, you were scolded by the talented Brian Cox, now an annoying nobody screeches at you which really disrupts the type of flow the first had.  No velvety voice of a known and great actor, now your just getting bitched by some guy that kinda sounds like a cross between a bitchy girlfriend and Ray Liotta, but not nearly as cool as Ray Liotta, and almost as irritating as your ex-girlfriend.\n",
            "\n",
            "Thinking about it, I doubt even if the stealth kill weren't blurred, this still wouldn't be anything nearly as fun as the first.  When a you execute a hunter, at the point where you strike or shoot or stab or slash a guy, a fast and artsy blur jolts everything and the shade of everything goes negative for a bit.  About 60% of the kill is plainly visible, but 40% is blurred.  These kills are actually pretty good, and I especially like the firearm executions, but coupled with the filters and obstructions they had to program in, it really doesn't matter.  Some of the environment kills are entertaining, but hardly worth the addition if they were at the cost of everything else I disliked.\n",
            "\n",
            "In short people, everything in this game reminded me of Manhunt, it reminded me of how it's NOT...manhunt and certainly of how it's not as good as Manhunt.  I will now sell this game, and fire up the original for the experience that this game failed miserably to acheive, and no doubt I will crack a sinister smile and bathe in the joy of hearing Brian Cox direct me to massacre a bunch of scumbags.. Just replay the first one and save your money [5.]\n",
            "-------------------------\n",
            "Love the variety in color and sizes..  [5.]\n",
            "-------------------------\n",
            "I want to love this mouse. I've had 2 of the prior Razer Naga MMO mice. The first version was my favorite. This one is much like the later editions in terms of shape, but I like how it's heavier. It feels solid. Presumably due to the battery inside. It has a slightly different shape than the 2014 version I replaced which feels a tad better.\n",
            "\n",
            "Problem is, that this wireless mouse is just as unreliable as you'd expect from a wireless mouse. It's HORRIBLE. Loses connection constantly. Also, the battery dies before I'm done for the night. You can plug it directly in, but for some reason that switches drivers requiring a restart or else you'll have even worse performance than when you're wireless.\n",
            "\n",
            "So, I thought I'd just leave it plugged in all the time. However, I still get tons of bugginess. Right now, I'm getting constant glitching even though I'm wired directly in.\n",
            "\n",
            "In short. This is definitively the WORST mouse I've ever used. I'm replacing it with my 2014 broken Razer Naga awaiting for the wired versions to get back in stock (I assume there is a new refresh right now).. Doesn't do it's primary function, which is to be a reliable mouse while gaming. [5.]\n",
            "-------------------------\n",
            "exactly what i ordered. There was no surprises. easy to string.  husband plays and absolutely loves the new set of strings. martin mandolin strings [5.]\n",
            "-------------------------\n"
          ]
        }
      ],
      "id": "6pot4TA28hGl"
    },
    {
      "cell_type": "code",
      "source": [],
      "metadata": {
        "id": "48rp9gC6Whdv"
      },
      "id": "48rp9gC6Whdv",
      "execution_count": null,
      "outputs": []
    },
    {
      "cell_type": "code",
      "source": [],
      "metadata": {
        "id": "HRdY_yTQWhfY"
      },
      "id": "HRdY_yTQWhfY",
      "execution_count": null,
      "outputs": []
    }
  ],
  "metadata": {
    "kernelspec": {
      "display_name": "Python 3 (ipykernel)",
      "language": "python",
      "name": "python3"
    },
    "language_info": {
      "codemirror_mode": {
        "name": "ipython",
        "version": 3
      },
      "file_extension": ".py",
      "mimetype": "text/x-python",
      "name": "python",
      "nbconvert_exporter": "python",
      "pygments_lexer": "ipython3",
      "version": "3.9.7"
    },
    "colab": {
      "provenance": []
    },
    "accelerator": "GPU"
  },
  "nbformat": 4,
  "nbformat_minor": 5
}